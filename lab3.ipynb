{
 "cells": [
  {
   "cell_type": "markdown",
   "id": "fdeff819",
   "metadata": {},
   "source": [
    "# Sinh Viên thực hiện Lab 3 ở Đây"
   ]
  },
  {
   "cell_type": "markdown",
   "id": "acc5d7dc",
   "metadata": {},
   "source": [
    "## Lab 3 - Bài 1"
   ]
  },
  {
   "cell_type": "code",
   "execution_count": 10,
   "id": "001e0507",
   "metadata": {},
   "outputs": [
    {
     "name": "stdout",
     "output_type": "stream",
     "text": [
      "day so ban dau: [9, 59, 21, 9, 20, 23, 19, 12, 19, 77]\n",
      "day so sau khi copy: [9, 59, 21, 9, 20, 23, 19, 12, 19, 77]\n",
      "day so sau khi sap xep: [9, 9, 12, 19, 19, 20, 21, 23, 59, 77]\n"
     ]
    }
   ],
   "source": [
    "#Sắp xếp theo thứ tự tăng dần và xuất dãy số nguyên ra màn hình.\n",
    "day_so= [9, 59, 21, 9, 20, 23, 19, 12, 19, 77]\n",
    "print(f\"day so ban dau: {day_so}\")\n",
    "day_so1= day_so.copy()\n",
    "print(f\"day so sau khi copy: {day_so1}\")\n",
    "day_so1.sort()\n",
    "print(f\"day so sau khi sap xep: {day_so1}\")"
   ]
  },
  {
   "cell_type": "code",
   "execution_count": 3,
   "id": "a676e1e0",
   "metadata": {},
   "outputs": [
    {
     "name": "stdout",
     "output_type": "stream",
     "text": [
      "[2, 4, 6, 8]\n",
      "[1, 3, 5, 7, 9]\n"
     ]
    }
   ],
   "source": [
    "day_so= list(map(int, input(\"nhap vao list\").split(',')))\n",
    "so_chan=[]\n",
    "so_le=[]\n",
    "for i in range(len(day_so)):\n",
    "    if day_so[i] % 2==0:\n",
    "        so_chan.append(day_so[i])\n",
    "    else:\n",
    "        so_le.append(day_so[i])\n",
    "\n",
    "print(so_chan)\n",
    "print(so_le)"
   ]
  },
  {
   "cell_type": "code",
   "execution_count": 14,
   "id": "e6cd5b3b",
   "metadata": {},
   "outputs": [
    {
     "name": "stdout",
     "output_type": "stream",
     "text": [
      "Phan tu co gia tri nho nhat: 9\n"
     ]
    }
   ],
   "source": [
    "# Phần tử có giá trị nhỏ nhất chính là phần tử đầu tiên của danh sách \n",
    "print(f\"Phan tu co gia tri nho nhat: {day_so1[0]}\")"
   ]
  },
  {
   "cell_type": "code",
   "execution_count": 16,
   "id": "cb30a666",
   "metadata": {},
   "outputs": [
    {
     "name": "stdout",
     "output_type": "stream",
     "text": [
      "Trung binh cong cac phan tu chia het cho 3: 5.1\n"
     ]
    }
   ],
   "source": [
    "# Tính và xuất ra màn hình trung bình cộng các phần tử chia hết cho 3 \n",
    "n= len(day_so1)\n",
    "tong= 0\n",
    "for i in range(n):\n",
    "    if day_so1[i] % 3 == 0:\n",
    "        tong += day_so1[i]\n",
    "trung_binh= tong / n\n",
    "print(f\"Trung binh cong cac phan tu chia het cho 3: {trung_binh}\")\n",
    "\n"
   ]
  },
  {
   "cell_type": "code",
   "execution_count": 18,
   "id": "8f9b6856",
   "metadata": {},
   "outputs": [
    {
     "name": "stdout",
     "output_type": "stream",
     "text": [
      "day so sau khi sap xep giam dan: [77, 59, 23, 21, 20, 19, 19, 12, 9, 9]\n",
      "Phan tu co gia tri nho nhat trong day so sau khi sap xep giam dan: 9\n"
     ]
    }
   ],
   "source": [
    "# Thay đổi sắp xếp theo thứ tự giảm dần, khi đó phần tử nhỏ nhất trong danh sách sẽ là phần tử thứ mấy?\n",
    "day_so2= day_so.copy()\n",
    "day_so2.sort(reverse=True)\n",
    "print(f\"day so sau khi sap xep giam dan: {day_so2}\")\n",
    "# Phần tử nhỏ nhất trong danh sách sẽ là phần tử thứ mấy?\n",
    "print(f\"Phan tu co gia tri nho nhat trong day so sau khi sap xep giam dan: {day_so2[-1]}\")\n"
   ]
  },
  {
   "cell_type": "markdown",
   "id": "c0835310",
   "metadata": {},
   "source": [
    "## Lab 3 - Bài 2"
   ]
  },
  {
   "cell_type": "code",
   "execution_count": null,
   "id": "fa9cb39f",
   "metadata": {},
   "outputs": [
    {
     "name": "stdout",
     "output_type": "stream",
     "text": [
      "Thong tin sinh vien: {'name': 'Ngo Tan Dat', 'diem': 5.0, 'xep_loai': 'Trung Binh'}\n"
     ]
    }
   ],
   "source": [
    "danh_sach_sinh_vien={}\n",
    "\n",
    "name= str(input(\"Nhap ten sinh vien: \"))\n",
    "#tach nhau = dau ,\n",
    "diem = float(input(\"Nhap diem sinh vien: \"))\n",
    "xep_loai= \"\"\n",
    "if diem >= 9:\n",
    "    xep_loai= \"Xuat Xac\"\n",
    "elif diem >= 8 and diem < 9:\n",
    "    xep_loai= \"Gioi\"\n",
    "elif diem >= 7 and diem < 8:\n",
    "    xep_loai= \"Kha\"\n",
    "elif diem >= 5 and diem < 7:\n",
    "    xep_loai= \"Trung Binh\"\n",
    "else:\n",
    "    xep_loai= \"Yeu\"\n",
    "danh_sach_sinh_vien= {\"name\": name, \"diem\": diem, \"xep_loai\": xep_loai}\n",
    "print(f\"Thong tin sinh vien: {danh_sach_sinh_vien}\")\n",
    "# Sử dụng kiểu list để lưu danh sách sinh viên \n",
    "# Nhập vào thông tin của một vài sinh viên \n",
    "\n",
    "\n",
    "\n",
    "\n"
   ]
  },
  {
   "cell_type": "code",
   "execution_count": 3,
   "id": "f00a446c",
   "metadata": {},
   "outputs": [
    {
     "name": "stdout",
     "output_type": "stream",
     "text": [
      "\n",
      "Nhập thông tin sinh viên thứ 1:\n",
      "\n",
      "Nhập thông tin sinh viên thứ 2:\n",
      "\n",
      "Thông tin các sinh viên:\n",
      "Họ tên: Ngo Tan Dat, Điểm: 5.0, Xếp loại: Trung bình\n",
      "Họ tên: Ngo Tan Dat 2, Điểm: 2.0, Xếp loại: Yếu\n"
     ]
    }
   ],
   "source": [
    "# Nhập vào thông tin của một vài sinh viên, lưu vào list, mỗi sinh viên là 1 dict\n",
    "danh_sach_sinh_vien = []\n",
    "\n",
    "so_luong = int(input(\"Nhập số lượng sinh viên: \"))\n",
    "for i in range(so_luong):\n",
    "    print(f\"\\nNhập thông tin sinh viên thứ {i+1}:\")\n",
    "    name = input(\"Họ tên: \")\n",
    "    diem = float(input(\"Điểm: \"))\n",
    "    if diem >= 9:\n",
    "        xep_loai = \"Xuất sắc\"\n",
    "    elif diem >= 8:\n",
    "        xep_loai = \"Giỏi\"\n",
    "    elif diem >= 7:\n",
    "        xep_loai = \"Khá\"\n",
    "    elif diem >= 5:\n",
    "        xep_loai = \"Trung bình\"\n",
    "    else:\n",
    "        xep_loai = \"Yếu\"\n",
    "    sinh_vien = {\n",
    "        \"Họ tên\": name,\n",
    "        \"Điểm\": diem,\n",
    "        \"Xếp loại\": xep_loai\n",
    "    }\n",
    "    danh_sach_sinh_vien.append(sinh_vien)\n",
    "\n",
    "print(\"\\nThông tin các sinh viên:\")\n",
    "for sv in danh_sach_sinh_vien:\n",
    "    print(f\"Họ tên: {sv['Họ tên']}, Điểm: {sv['Điểm']}, Xếp loại: {sv['Xếp loại']}\")\n"
   ]
  },
  {
   "cell_type": "markdown",
   "id": "a758b4b8",
   "metadata": {},
   "source": [
    "## Lab 3 - Bài 3"
   ]
  },
  {
   "cell_type": "code",
   "execution_count": 3,
   "id": "1c7a4d03",
   "metadata": {},
   "outputs": [
    {
     "name": "stdout",
     "output_type": "stream",
     "text": [
      "Khong phai so nguyen to\n"
     ]
    }
   ],
   "source": [
    "#Viết chương trình nhập một số nguyên từ bàn phím và cho biết số đó có phải là số  nguyên tố hay không (số nguyên tố là số chỉ chia hết cho 1 và chính nó). \n",
    "so_check= int(input(\"Nhap so nguyen: \"))\n",
    "if so_check > 1:\n",
    "    for i in range(2, so_check):\n",
    "        if so_check % i == 0:\n",
    "            print(\"So nguyen to\")\n",
    "            break\n",
    "        else:\n",
    "            print(\"Khong phai so nguyen to\")\n",
    "            break\n",
    "else:\n",
    "    print(\"Khong phai so nguyen to\")\n"
   ]
  },
  {
   "cell_type": "markdown",
   "id": "d36ea3d3",
   "metadata": {},
   "source": [
    "## Lab 3 - Bài 4"
   ]
  },
  {
   "cell_type": "code",
   "execution_count": null,
   "id": "4c707ec1",
   "metadata": {},
   "outputs": [
    {
     "name": "stdout",
     "output_type": "stream",
     "text": [
      "5 x 1 = 5\n",
      "5 x 2 = 10\n",
      "5 x 3 = 15\n",
      "5 x 4 = 20\n",
      "5 x 5 = 25\n",
      "5 x 6 = 30\n",
      "5 x 7 = 35\n",
      "5 x 8 = 40\n",
      "5 x 9 = 45\n",
      "5 x 10 = 50\n"
     ]
    }
   ],
   "source": [
    "# Viết chương trình xuất ra màn hình bảng cửu chương\n",
    "bang_cuu_chuong= int(input(\"Nhap so can xuat bang cuu chuong: \"))\n",
    "for i in range(1, 11):\n",
    "    print(f\"{bang_cuu_chuong} x {i} = {bang_cuu_chuong * i}\")\n",
    "\n",
    "    \n"
   ]
  },
  {
   "cell_type": "code",
   "execution_count": 4,
   "id": "762892b4",
   "metadata": {},
   "outputs": [
    {
     "name": "stdout",
     "output_type": "stream",
     "text": [
      "\n",
      "Bảng cửu chương 1:\n",
      "1 x 1 = 1\n",
      "1 x 2 = 2\n",
      "1 x 3 = 3\n",
      "1 x 4 = 4\n",
      "1 x 5 = 5\n",
      "1 x 6 = 6\n",
      "1 x 7 = 7\n",
      "1 x 8 = 8\n",
      "1 x 9 = 9\n",
      "1 x 10 = 10\n",
      "\n",
      "Bảng cửu chương 2:\n",
      "2 x 1 = 2\n",
      "2 x 2 = 4\n",
      "2 x 3 = 6\n",
      "2 x 4 = 8\n",
      "2 x 5 = 10\n",
      "2 x 6 = 12\n",
      "2 x 7 = 14\n",
      "2 x 8 = 16\n",
      "2 x 9 = 18\n",
      "2 x 10 = 20\n",
      "\n",
      "Bảng cửu chương 3:\n",
      "3 x 1 = 3\n",
      "3 x 2 = 6\n",
      "3 x 3 = 9\n",
      "3 x 4 = 12\n",
      "3 x 5 = 15\n",
      "3 x 6 = 18\n",
      "3 x 7 = 21\n",
      "3 x 8 = 24\n",
      "3 x 9 = 27\n",
      "3 x 10 = 30\n",
      "\n",
      "Bảng cửu chương 4:\n",
      "4 x 1 = 4\n",
      "4 x 2 = 8\n",
      "4 x 3 = 12\n",
      "4 x 4 = 16\n",
      "4 x 5 = 20\n",
      "4 x 6 = 24\n",
      "4 x 7 = 28\n",
      "4 x 8 = 32\n",
      "4 x 9 = 36\n",
      "4 x 10 = 40\n",
      "\n",
      "Bảng cửu chương 5:\n",
      "5 x 1 = 5\n",
      "5 x 2 = 10\n",
      "5 x 3 = 15\n",
      "5 x 4 = 20\n",
      "5 x 5 = 25\n",
      "5 x 6 = 30\n",
      "5 x 7 = 35\n",
      "5 x 8 = 40\n",
      "5 x 9 = 45\n",
      "5 x 10 = 50\n",
      "\n",
      "Bảng cửu chương 6:\n",
      "6 x 1 = 6\n",
      "6 x 2 = 12\n",
      "6 x 3 = 18\n",
      "6 x 4 = 24\n",
      "6 x 5 = 30\n",
      "6 x 6 = 36\n",
      "6 x 7 = 42\n",
      "6 x 8 = 48\n",
      "6 x 9 = 54\n",
      "6 x 10 = 60\n",
      "\n",
      "Bảng cửu chương 7:\n",
      "7 x 1 = 7\n",
      "7 x 2 = 14\n",
      "7 x 3 = 21\n",
      "7 x 4 = 28\n",
      "7 x 5 = 35\n",
      "7 x 6 = 42\n",
      "7 x 7 = 49\n",
      "7 x 8 = 56\n",
      "7 x 9 = 63\n",
      "7 x 10 = 70\n",
      "\n",
      "Bảng cửu chương 8:\n",
      "8 x 1 = 8\n",
      "8 x 2 = 16\n",
      "8 x 3 = 24\n",
      "8 x 4 = 32\n",
      "8 x 5 = 40\n",
      "8 x 6 = 48\n",
      "8 x 7 = 56\n",
      "8 x 8 = 64\n",
      "8 x 9 = 72\n",
      "8 x 10 = 80\n",
      "\n",
      "Bảng cửu chương 9:\n",
      "9 x 1 = 9\n",
      "9 x 2 = 18\n",
      "9 x 3 = 27\n",
      "9 x 4 = 36\n",
      "9 x 5 = 45\n",
      "9 x 6 = 54\n",
      "9 x 7 = 63\n",
      "9 x 8 = 72\n",
      "9 x 9 = 81\n",
      "9 x 10 = 90\n"
     ]
    }
   ],
   "source": [
    "# Xuất ra 9 bảng nhân (bảng cửu chương từ 1 đến 9)\n",
    "for i in range(1, 10):\n",
    "    print(f\"\\nBảng cửu chương {i}:\")\n",
    "    for j in range(1, 11):\n",
    "        print(f\"{i} x {j} = {i * j}\")\n"
   ]
  },
  {
   "cell_type": "markdown",
   "id": "e2b41d4a",
   "metadata": {},
   "source": [
    "## Lab 3 - Bài 5: bài tập làm thêm"
   ]
  },
  {
   "cell_type": "code",
   "execution_count": 1,
   "id": "d1b396a4",
   "metadata": {},
   "outputs": [
    {
     "name": "stdout",
     "output_type": "stream",
     "text": [
      "===== CHƯƠNG TRÌNH TÍNH TOÁN =====\n",
      "1. Cộng (+)\n",
      "2. Trừ (-)\n",
      "3. Nhân (*)\n",
      "4. Chia (/)\n",
      "5. Lũy thừa (x^y)\n",
      "6. Căn bậc hai (sqrt(x))\n",
      "7. Sin\n",
      "8. Cos\n",
      "9. Tan\n",
      "10. Logarit cơ số 10\n",
      "11. Logarit tự nhiên (ln)\n",
      "12. Logarit cơ số tùy chọn\n",
      "13. Giải phương trình bậc nhất (ax+b=0)\n",
      "14. Giải phương trình bậc hai (ax^2+bx+c=0)\n",
      "15. Xem lịch sử tính toán\n",
      "16. Xem thời gian hiện tại\n",
      "0. Thoát\n",
      "bay gio la 2025-10-01 16:53:00.349623\n",
      "4.0^3.0 = 64.0\n",
      "1.0 - 4.0 = -3.0\n",
      "Kết thúc chương trình.\n"
     ]
    }
   ],
   "source": [
    "import math\n",
    "import datetime\n",
    "\n",
    "print(\"===== CHƯƠNG TRÌNH TÍNH TOÁN =====\")\n",
    "print(\"1. Cộng (+)\")\n",
    "print(\"2. Trừ (-)\")\n",
    "print(\"3. Nhân (*)\")\n",
    "print(\"4. Chia (/)\")\n",
    "print(\"5. Lũy thừa (x^y)\")\n",
    "print(\"6. Căn bậc hai (sqrt(x))\")\n",
    "print(\"7. Sin\")\n",
    "print(\"8. Cos\")\n",
    "print(\"9. Tan\")\n",
    "print(\"10. Logarit cơ số 10\")\n",
    "print(\"11. Logarit tự nhiên (ln)\")\n",
    "print(\"12. Logarit cơ số tùy chọn\")\n",
    "print(\"13. Giải phương trình bậc nhất (ax+b=0)\")\n",
    "print(\"14. Giải phương trình bậc hai (ax^2+bx+c=0)\")\n",
    "print(\"15. Xem lịch sử tính toán\")\n",
    "print(\"16. Xem thời gian hiện tại\")\n",
    "print(\"0. Thoát\")\n",
    "\n",
    "print(f\"bay gio la {datetime.datetime.now()}\")\n",
    "history_menu = []\n",
    "\n",
    "while True:\n",
    "    try:\n",
    "        chon = int(input(\"Chọn chức năng (0-16): \"))\n",
    "    except:\n",
    "        print(\"Vui lòng nhập số hợp lệ!\")\n",
    "        continue\n",
    "\n",
    "    if chon == 0:\n",
    "        print(\"Kết thúc chương trình.\")\n",
    "        break\n",
    "\n",
    "    elif chon == 1:\n",
    "        a = float(input(\"Nhập số thứ nhất: \"))\n",
    "        b = float(input(\"Nhập số thứ hai: \"))\n",
    "        kq = a + b\n",
    "        print(f\"{a} + {b} = {kq}\")\n",
    "        history_menu.append(f\"{a} + {b} = {kq}\")\n",
    "\n",
    "    elif chon == 2:\n",
    "        a = float(input(\"Nhập số thứ nhất: \"))\n",
    "        b = float(input(\"Nhập số thứ hai: \"))\n",
    "        kq = a - b\n",
    "        print(f\"{a} - {b} = {kq}\")\n",
    "        history_menu.append(f\"{a} - {b} = {kq}\")\n",
    "\n",
    "    elif chon == 3:\n",
    "        a = float(input(\"Nhập số thứ nhất: \"))\n",
    "        b = float(input(\"Nhập số thứ hai: \"))\n",
    "        kq = a * b\n",
    "        print(f\"{a} * {b} = {kq}\")\n",
    "        history_menu.append(f\"{a} * {b} = {kq}\")\n",
    "\n",
    "    elif chon == 4:\n",
    "        a = float(input(\"Nhập số bị chia: \"))\n",
    "        b = float(input(\"Nhập số chia: \"))\n",
    "        if b == 0:\n",
    "            print(\"Không thể chia cho 0!\")\n",
    "            history_menu.append(f\"{a} / {b} = Lỗi chia cho 0\")\n",
    "        else:\n",
    "            kq = a / b\n",
    "            print(f\"{a} / {b} = {kq}\")\n",
    "            history_menu.append(f\"{a} / {b} = {kq}\")\n",
    "\n",
    "    elif chon == 5:\n",
    "        x = float(input(\"Nhập cơ số x: \"))\n",
    "        y = float(input(\"Nhập số mũ y: \"))\n",
    "        kq = x ** y\n",
    "        print(f\"{x}^{y} = {kq}\")\n",
    "        history_menu.append(f\"{x}^{y} = {kq}\")\n",
    "\n",
    "    elif chon == 6:\n",
    "        x = float(input(\"Nhập số cần lấy căn bậc hai: \"))\n",
    "        if x < 0:\n",
    "            print(\"Không thể lấy căn bậc hai của số âm!\")\n",
    "            history_menu.append(f\"sqrt({x}) = Lỗi số âm\")\n",
    "        else:\n",
    "            kq = math.sqrt(x)\n",
    "            print(f\"sqrt({x}) = {kq}\")\n",
    "            history_menu.append(f\"sqrt({x}) = {kq}\")\n",
    "\n",
    "    elif chon == 7:\n",
    "        x = float(input(\"Nhập góc (độ): \"))\n",
    "        rad = math.radians(x)\n",
    "        kq = math.sin(rad)\n",
    "        print(f\"sin({x}°) = {kq}\")\n",
    "        history_menu.append(f\"sin({x}°) = {kq}\")\n",
    "\n",
    "    elif chon == 8:\n",
    "        x = float(input(\"Nhập góc (độ): \"))\n",
    "        rad = math.radians(x)\n",
    "        kq = math.cos(rad)\n",
    "        print(f\"cos({x}°) = {kq}\")\n",
    "        history_menu.append(f\"cos({x}°) = {kq}\")\n",
    "\n",
    "    elif chon == 9:\n",
    "        x = float(input(\"Nhập góc (độ): \"))\n",
    "        rad = math.radians(x)\n",
    "        kq = math.tan(rad)\n",
    "        print(f\"tan({x}°) = {kq}\")\n",
    "        history_menu.append(f\"tan({x}°) = {kq}\")\n",
    "\n",
    "    elif chon == 10:\n",
    "        x = float(input(\"Nhập số cần tính log10: \"))\n",
    "        if x <= 0:\n",
    "            print(\"Giá trị phải lớn hơn 0!\")\n",
    "            history_menu.append(f\"log10({x}) = Lỗi giá trị <= 0\")\n",
    "        else:\n",
    "            kq = math.log10(x)\n",
    "            print(f\"log10({x}) = {kq}\")\n",
    "            history_menu.append(f\"log10({x}) = {kq}\")\n",
    "\n",
    "    elif chon == 11:\n",
    "        x = float(input(\"Nhập số cần tính ln: \"))\n",
    "        if x <= 0:\n",
    "            print(\"Giá trị phải lớn hơn 0!\")\n",
    "            history_menu.append(f\"ln({x}) = Lỗi giá trị <= 0\")\n",
    "        else:\n",
    "            kq = math.log(x)\n",
    "            print(f\"ln({x}) = {kq}\")\n",
    "            history_menu.append(f\"ln({x}) = {kq}\")\n",
    "\n",
    "    elif chon == 12:\n",
    "        x = float(input(\"Nhập số cần tính log: \"))\n",
    "        base = float(input(\"Nhập cơ số log: \"))\n",
    "        if x <= 0 or base <= 0 or base == 1:\n",
    "            print(\"Giá trị và cơ số phải > 0 và cơ số ≠ 1!\")\n",
    "            history_menu.append(f\"log_{base}({x}) = Lỗi giá trị/cơ số\")\n",
    "        else:\n",
    "            kq = math.log(x, base)\n",
    "            print(f\"log_{base}({x}) = {kq}\")\n",
    "            history_menu.append(f\"log_{base}({x}) = {kq}\")\n",
    "\n",
    "    elif chon == 13:\n",
    "        print(\"Giải phương trình bậc nhất: ax + b = 0\")\n",
    "        a = float(input(\"Nhập a: \"))\n",
    "        b = float(input(\"Nhập b: \"))\n",
    "        if a == 0:\n",
    "            if b == 0:\n",
    "                print(\"Phương trình có vô số nghiệm\")\n",
    "                history_menu.append(\"PT bậc nhất: vô số nghiệm\")\n",
    "            else:\n",
    "                print(\"Phương trình vô nghiệm\")\n",
    "                history_menu.append(\"PT bậc nhất: vô nghiệm\")\n",
    "        else:\n",
    "            x = -b / a\n",
    "            print(f\"Nghiệm x = {x}\")\n",
    "            history_menu.append(f\"PT bậc nhất: x = {x}\")\n",
    "\n",
    "    elif chon == 14:\n",
    "        print(\"Giải phương trình bậc hai: ax^2 + bx + c = 0\")\n",
    "        a = float(input(\"Nhập a: \"))\n",
    "        b = float(input(\"Nhập b: \"))\n",
    "        c = float(input(\"Nhập c: \"))\n",
    "        if a == 0:\n",
    "            if b == 0:\n",
    "                if c == 0:\n",
    "                    print(\"Phương trình có vô số nghiệm\")\n",
    "                    history_menu.append(\"PT bậc hai: vô số nghiệm\")\n",
    "                else:\n",
    "                    print(\"Phương trình vô nghiệm\")\n",
    "                    history_menu.append(\"PT bậc hai: vô nghiệm\")\n",
    "            else:\n",
    "                x = -c / b\n",
    "                print(f\"Phương trình có nghiệm x = {x}\")\n",
    "                history_menu.append(f\"PT bậc hai (thực chất bậc nhất): x = {x}\")\n",
    "        else:\n",
    "            delta = b**2 - 4*a*c\n",
    "            if delta < 0:\n",
    "                print(\"Phương trình vô nghiệm\")\n",
    "                history_menu.append(\"PT bậc hai: vô nghiệm\")\n",
    "            elif delta == 0:\n",
    "                x = -b / (2*a)\n",
    "                print(f\"Phương trình có nghiệm kép x = {x}\")\n",
    "                history_menu.append(f\"PT bậc hai: nghiệm kép x = {x}\")\n",
    "            else:\n",
    "                x1 = (-b + math.sqrt(delta)) / (2*a)\n",
    "                x2 = (-b - math.sqrt(delta)) / (2*a)\n",
    "                print(f\"Phương trình có 2 nghiệm phân biệt: x1 = {x1}, x2 = {x2}\")\n",
    "                history_menu.append(f\"PT bậc hai: x1 = {x1}, x2 = {x2}\")\n",
    "\n",
    "    elif chon == 15:\n",
    "        print(\"===== LỊCH SỬ TÍNH TOÁN =====\")\n",
    "        if len(history_menu) == 0:\n",
    "            print(\"Chưa có phép tính nào.\")\n",
    "        else:\n",
    "            for i, item in enumerate(history_menu, 1):\n",
    "                print(f\"{i}. {item}\")\n",
    "\n",
    "    elif chon == 16:\n",
    "        now = datetime.datetime.now()\n",
    "        print(\"Thời gian hiện tại:\", now.strftime(\"%H:%M:%S %d/%m/%Y\"))\n",
    "\n",
    "    else:\n",
    "        print(\"Chức năng không hợp lệ, vui lòng chọn lại!\")\n"
   ]
  },
  {
   "cell_type": "code",
   "execution_count": null,
   "id": "bdb787f4",
   "metadata": {},
   "outputs": [],
   "source": []
  },
  {
   "cell_type": "code",
   "execution_count": null,
   "id": "2b18e856",
   "metadata": {},
   "outputs": [],
   "source": []
  }
 ],
 "metadata": {
  "kernelspec": {
   "display_name": "fraud_detect",
   "language": "python",
   "name": "python3"
  },
  "language_info": {
   "codemirror_mode": {
    "name": "ipython",
    "version": 3
   },
   "file_extension": ".py",
   "mimetype": "text/x-python",
   "name": "python",
   "nbconvert_exporter": "python",
   "pygments_lexer": "ipython3",
   "version": "3.10.18"
  }
 },
 "nbformat": 4,
 "nbformat_minor": 5
}
