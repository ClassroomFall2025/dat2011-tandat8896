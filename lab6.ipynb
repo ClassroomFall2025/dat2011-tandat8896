{
 "cells": [
  {
   "cell_type": "markdown",
   "id": "fdeff819",
   "metadata": {},
   "source": [
    "# Sinh Viên thực hiện Lab 6 ở Đây"
   ]
  },
  {
   "cell_type": "code",
   "execution_count": 5,
   "id": "0f920a4c",
   "metadata": {},
   "outputs": [
    {
     "name": "stdout",
     "output_type": "stream",
     "text": [
      "The autoreload extension is already loaded. To reload it, use:\n",
      "  %reload_ext autoreload\n"
     ]
    }
   ],
   "source": [
    "%load_ext autoreload\n",
    "%autoreload 2"
   ]
  },
  {
   "cell_type": "markdown",
   "id": "acc5d7dc",
   "metadata": {},
   "source": [
    "## Lab 6 - Bài 1"
   ]
  },
  {
   "cell_type": "code",
   "execution_count": 7,
   "id": "001e0507",
   "metadata": {},
   "outputs": [
    {
     "name": "stdout",
     "output_type": "stream",
     "text": [
      "set chieu dai\n",
      "set chieu rong\n",
      "get chieu dai: 10\n",
      "get chieu rong: 5\n",
      "xuat thong tin: Chieu dai la 10, chieu rong la 5, chu vi la 30, dien tich la 50\n"
     ]
    }
   ],
   "source": [
    "# Code lab 6 bài 1 ở đây\n",
    "\n",
    "from lab6 import HinhChuNhat\n",
    "\n",
    "hcn1 = HinhChuNhat()\n",
    "print(\"set chieu dai\")\n",
    "hcn1.set_chieu_dai(10)\n",
    "print(\"set chieu rong\")\n",
    "hcn1.set_chieu_rong(5)\n",
    "print(\"get chieu dai:\", hcn1.get_chieu_dai())\n",
    "print(\"get chieu rong:\", hcn1.get_chieu_rong())\n",
    "print(\"xuat thong tin:\", hcn1.xuat_thong_tin())\n"
   ]
  },
  {
   "cell_type": "code",
   "execution_count": 8,
   "id": "985c240f",
   "metadata": {},
   "outputs": [
    {
     "name": "stdout",
     "output_type": "stream",
     "text": [
      "set canh\n",
      "get canh: 10\n",
      "xuat thong tin: Canh la 10, chu vi la 40, dien tich la 100\n"
     ]
    }
   ],
   "source": [
    "# Code lab 6  bài 2 ở đây\n",
    "\n",
    "from lab6 import HinhVuong\n",
    "    \n",
    "hv = HinhVuong()\n",
    "print(\"set canh\")\n",
    "hv.set_canh(10)\n",
    "print(\"get canh:\", hv.get_canh())\n",
    "print(\"xuat thong tin:\", hv.xuat_thong_tin())\n"
   ]
  },
  {
   "cell_type": "markdown",
   "id": "c0835310",
   "metadata": {},
   "source": [
    "## Lab 6 - Bài 2"
   ]
  },
  {
   "cell_type": "code",
   "execution_count": null,
   "id": "fa9cb39f",
   "metadata": {},
   "outputs": [
    {
     "name": "stdout",
     "output_type": "stream",
     "text": [
      "Nhap thong tin sinh vien:\n",
      "Thong tin sinh vien:\n",
      "Ten sinh vien: ngo tan dat, Nghanh sinh vien: da, Diem sinh vien: 5.0, Hoc luc sinh vien: Trung Binh\n"
     ]
    }
   ],
   "source": [
    "from lab6 import SinhVienPoly\n",
    "\n",
    "sv1 = SinhVienPoly()\n",
    "print(\"Nhap thong tin sinh vien:\")\n",
    "sv1.set_ten()\n",
    "sv1.set_nghanh()\n",
    "sv1.set_diem()  # Nhập điểm 1 lần duy nhất\n",
    "print(\"Thong tin sinh vien:\")\n",
    "print(sv1.xuat_thong_tin())\n"
   ]
  },
  {
   "cell_type": "markdown",
   "id": "0f2483fe",
   "metadata": {},
   "source": [
    "## Lab 6 - Bài 3"
   ]
  },
  {
   "cell_type": "code",
   "execution_count": null,
   "id": "7034990b",
   "metadata": {},
   "outputs": [
    {
     "name": "stdout",
     "output_type": "stream",
     "text": [
      "{'ten': 'ngo tan dat', 'nghanh': 'da', 'diem': 94.0, 'java': 4.0, 'html': 5.0, 'css': 76.0, 'hoc_luc': 94.0}\n"
     ]
    },
    {
     "data": {
      "text/plain": [
       "{'ten': 'ngo tan dat',\n",
       " 'nghanh': 'da',\n",
       " 'diem': 94.0,\n",
       " 'java': 4.0,\n",
       " 'html': 5.0,\n",
       " 'css': 76.0,\n",
       " 'hoc_luc': 94.0}"
      ]
     },
     "execution_count": 20,
     "metadata": {},
     "output_type": "execute_result"
    }
   ],
   "source": [
    "# Code lab 6  bài 3 ở đây\n",
    "from lab6 import SinhVienIT\n",
    "\n",
    "\n",
    "svit = SinhVienIT()\n",
    "svit.set_ten()\n",
    "svit.set_nghanh()\n",
    "svit.set_diem()\n",
    "svit.set_java()\n",
    "svit.set_html()\n",
    "svit.set_css()\n",
    "svit.xuat_thong_tin()\n",
    "\n",
    "\n",
    "\n"
   ]
  },
  {
   "cell_type": "code",
   "execution_count": null,
   "id": "0fdf5acb",
   "metadata": {},
   "outputs": [
    {
     "name": "stdout",
     "output_type": "stream",
     "text": [
      "{'ten': 'ngo tan dat', 'nghanh': 'marketing', 'marketing': 6.0, 'sales': 7.0, 'diem': 33.0, 'hoc_luc': 'Xuat Xac'}\n"
     ]
    },
    {
     "data": {
      "text/plain": [
       "{'ten': 'ngo tan dat',\n",
       " 'nghanh': 'marketing',\n",
       " 'marketing': 6.0,\n",
       " 'sales': 7.0,\n",
       " 'diem': 33.0,\n",
       " 'hoc_luc': 'Xuat Xac'}"
      ]
     },
     "execution_count": 21,
     "metadata": {},
     "output_type": "execute_result"
    }
   ],
   "source": [
    "from lab6 import SinhVienBiz\n",
    "svbiz = SinhVienBiz()\n",
    "svbiz.set_ten()\n",
    "svbiz.set_nghanh()\n",
    "svbiz.set_diem()\n",
    "svbiz.set_marketing()\n",
    "svbiz.set_sales()\n",
    "svbiz.xuat_thong_tin()\n"
   ]
  },
  {
   "cell_type": "markdown",
   "id": "d36ea3d3",
   "metadata": {},
   "source": [
    "## Lab 6 - Bài 4"
   ]
  },
  {
   "cell_type": "code",
   "execution_count": null,
   "id": "52ce0d90",
   "metadata": {},
   "outputs": [
    {
     "name": "stdout",
     "output_type": "stream",
     "text": [
      "\n",
      "==================================================\n",
      "1. Nhap danh sach sinh vien\n",
      "2. Xuat thong tin danh sach sinh vien\n",
      "3. Xuat danh sach sinh vien co hoc luc gioi\n",
      "4. Sap xep danh sach sinh vien theo diem\n",
      "5. Ket thuc\n",
      "==================================================\n",
      "\n",
      "=== NHAP THONG TIN SINH VIEN ===\n",
      "Chon loai sinh vien:\n",
      "1. Sinh vien Poly\n",
      "2. Sinh vien IT\n",
      "3. Sinh vien Biz\n",
      "Da them sinh vien Poly thanh cong!\n",
      "\n",
      "=== DANH SACH SINH VIEN ===\n",
      "1. Ten sinh vien: ngo tan dat, Nghanh sinh vien: da, Diem sinh vien: 5.0, Hoc luc sinh vien: Trung Binh\n",
      "\n",
      "=== DANH SACH SINH VIEN GIOI ===\n",
      "Khong co sinh vien nao co hoc luc Gioi!\n",
      "\n",
      "=== DANH SACH SINH VIEN SAU KHI SAP XEP ===\n",
      "1. Ten sinh vien: ngo tan dat, Nghanh sinh vien: da, Diem sinh vien: 5.0, Hoc luc sinh vien: Trung Binh\n",
      "Cam on ban da su dung chuong trinh!\n"
     ]
    }
   ],
   "source": [
    "# Code lab 6  bài 4 ở đây - Chương trình quản lý sinh viên\n",
    "\n",
    "from lab6 import Quanlysinhvien\n",
    "ql = Quanlysinhvien()\n",
    "ql.menu()\n"
   ]
  },
  {
   "cell_type": "code",
   "execution_count": null,
   "id": "cce5a92f",
   "metadata": {},
   "outputs": [],
   "source": []
  },
  {
   "cell_type": "markdown",
   "id": "e2b41d4a",
   "metadata": {},
   "source": [
    "## Lab 6 - Bài 5: bài tập làm thêm"
   ]
  },
  {
   "cell_type": "code",
   "execution_count": null,
   "id": "0e0172f7",
   "metadata": {},
   "outputs": [],
   "source": [
    "# code lab 6  bài làm thêm ở đây \n"
   ]
  }
 ],
 "metadata": {
  "kernelspec": {
   "display_name": "pythonpdp302",
   "language": "python",
   "name": "python3"
  },
  "language_info": {
   "codemirror_mode": {
    "name": "ipython",
    "version": 3
   },
   "file_extension": ".py",
   "mimetype": "text/x-python",
   "name": "python",
   "nbconvert_exporter": "python",
   "pygments_lexer": "ipython3",
   "version": "3.11.13"
  }
 },
 "nbformat": 4,
 "nbformat_minor": 5
}
