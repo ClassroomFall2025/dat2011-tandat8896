{
 "cells": [
  {
   "cell_type": "markdown",
   "id": "fdeff819",
   "metadata": {},
   "source": [
    "# Sinh Viên thực hiện Lab 5 ở Đây"
   ]
  },
  {
   "cell_type": "code",
   "execution_count": 9,
   "id": "8f63d308",
   "metadata": {},
   "outputs": [],
   "source": [
    "%load_ext autoreload\n",
    "%autoreload 2"
   ]
  },
  {
   "cell_type": "code",
   "execution_count": null,
   "id": "4fe1aacb",
   "metadata": {},
   "outputs": [],
   "source": []
  },
  {
   "cell_type": "markdown",
   "id": "acc5d7dc",
   "metadata": {},
   "source": [
    "## Lab 5 - Bài 1"
   ]
  },
  {
   "cell_type": "code",
   "execution_count": null,
   "id": "001e0507",
   "metadata": {},
   "outputs": [
    {
     "data": {
      "text/plain": [
       "'Ten san pham: san pham 1, Gia san pham: 5.0, Giam gia san pham: 5.0, thue thu nhap: 0.5'"
      ]
     },
     "execution_count": 10,
     "metadata": {},
     "output_type": "execute_result"
    }
   ],
   "source": [
    "from lab5 import SanPham_Bai1\n",
    "\n",
    "sp1= SanPham_Bai1()\n",
    "sp1.nhap_thong_tin_san_pham()\n",
    "sp1.xuat_thong_tin()\n",
    "\n",
    "\n",
    "\n"
   ]
  },
  {
   "cell_type": "markdown",
   "id": "c0835310",
   "metadata": {},
   "source": [
    "## Lab 5 - Bài 2"
   ]
  },
  {
   "cell_type": "code",
   "execution_count": null,
   "id": "49a4deac",
   "metadata": {},
   "outputs": [
    {
     "name": "stdout",
     "output_type": "stream",
     "text": [
      "thong tin san pham s2 ban dau: san pham 2 5.0 6.0\n",
      "bắt đầu set và get thông tin sản phẩm s2\n",
      "thong tin san pham s2 sau khi set: san pham 2 5.0 6.0\n"
     ]
    }
   ],
   "source": [
    "from lab5 import SanPham_Bai2\n",
    "\n",
    "\n",
    "ten_san_pham= input(\"Nhap ten san pham: \")\n",
    "don_gia= float(input(\"Nhap gia san pham: \"))\n",
    "giam_gia= float(input(\"Nhap giam gia san pham: \"))\n",
    "s1= SanPham_Bai2(ten_san_pham, don_gia, giam_gia)\n",
    "print(f\"thong tin san pham s2 ban dau: {s2.xuat_thong_tin()}\")\n",
    "\n",
    "print(f\"bắt đầu set và get thông tin sản phẩm s2\")\n",
    "s1.set_ten_san_pham()\n",
    "s1.set_gia()\n",
    "print(f\"thong tin san pham s2 sau khi set: {s2.xuat_thong_tin()}\")"
   ]
  },
  {
   "cell_type": "code",
   "execution_count": null,
   "id": "89c940ad",
   "metadata": {},
   "outputs": [
    {
     "name": "stdout",
     "output_type": "stream",
     "text": [
      "thong tin san pham s2 ban dau: san pham 1 5.0 6.0\n",
      "bắt đầu set và get thông tin sản phẩm s2\n",
      "thong tin san pham s2 sau khi set: san pham 2 5.0 6.0\n"
     ]
    }
   ],
   "source": [
    "\n",
    "\n",
    "ten_san_pham= input(\"Nhap ten san pham: \")\n",
    "don_gia= float(input(\"Nhap gia san pham: \"))\n",
    "giam_gia= float(input(\"Nhap giam gia san pham: \"))\n",
    "s2= SanPham_Bai2(ten_san_pham, don_gia, giam_gia)\n",
    "print(f\"thong tin san pham s2 ban dau: {s2.xuat_thong_tin()}\")\n",
    "\n",
    "print(f\"bắt đầu set và get thông tin sản phẩm s2\")\n",
    "s2.set_ten_san_pham()\n",
    "s2.set_gia()\n",
    "print(f\"thong tin san pham s2 sau khi set: {s2.xuat_thong_tin()}\")"
   ]
  },
  {
   "cell_type": "markdown",
   "id": "0f2483fe",
   "metadata": {},
   "source": [
    "## Lab 5 - Bài 3"
   ]
  },
  {
   "cell_type": "code",
   "execution_count": 7,
   "id": "7034990b",
   "metadata": {},
   "outputs": [
    {
     "name": "stdout",
     "output_type": "stream",
     "text": [
      "('sp1', 500.0, 5.0)\n",
      "('4', 3.0, 2.0)\n"
     ]
    }
   ],
   "source": [
    "# Code lab 5  bài 3 ở đây\n",
    "from lab5 import SanPham_Bai3\n",
    "\n",
    "sanpham1= SanPham_Bai3()\n",
    "sanpham2= SanPham_Bai3()\n",
    "sanpham1.setter()\n",
    "sanpham2.setter()\n",
    "print(sanpham1.xuat_thong_tin())\n",
    "print(sanpham2.xuat_thong_tin())\n",
    "\n",
    "\n"
   ]
  },
  {
   "cell_type": "markdown",
   "id": "d36ea3d3",
   "metadata": {},
   "source": [
    "## Lab 5 - Bài 4"
   ]
  },
  {
   "cell_type": "code",
   "execution_count": 1,
   "id": "4c707ec1",
   "metadata": {},
   "outputs": [
    {
     "name": "stdout",
     "output_type": "stream",
     "text": [
      "('san pham 3', 500000.0, 4.0)\n",
      "('san pham 4', 5.0, 7.0)\n"
     ]
    }
   ],
   "source": [
    "from lab5 import SanPham_Bai4\n",
    "\n",
    "sanpham1= SanPham_Bai4()\n",
    "sanpham2= SanPham_Bai4()\n",
    "sanpham1.setter()\n",
    "sanpham2.setter()\n",
    "print(sanpham1.xuat_thong_tin())\n",
    "print(sanpham2.xuat_thong_tin())\n"
   ]
  },
  {
   "cell_type": "markdown",
   "id": "e2b41d4a",
   "metadata": {},
   "source": [
    "## Lab 5 - Bài 5: bài tập làm thêm"
   ]
  },
  {
   "cell_type": "code",
   "execution_count": 1,
   "id": "0e0172f7",
   "metadata": {},
   "outputs": [
    {
     "name": "stdout",
     "output_type": "stream",
     "text": [
      "==============================\n",
      " MENU:\n",
      "1  Phép tính 2 số: + - x ÷ ^\n",
      "2  Phép tính 1 số: sqrt sin cos tan log\n",
      "3  Xem lịch sử\n",
      "4  Xem thời gian\n",
      "0  Thoát\n",
      "==============================\n",
      "\n",
      " PHÉP TÍNH 2 SỐ:\n",
      "1: +  2: -  3: x  4: ÷  5: ^\n",
      " 2.0 + 3.0 = 5.0\n",
      "\n",
      " PHÉP TÍNH 1 SỐ:\n",
      "1: sqrt  2: sin  3: cos  4: tan  5: log\n",
      " căn 4.0 = 2.0\n",
      "\n",
      "=== LỊCH SỬ TÍNH TOÁN ===\n",
      "1. 2.0 + 3.0 = 5.0\n",
      "2. sqrt4.0 = 2.0\n",
      "Thời gian hiện tại: 2025-10-12 21:56:19.974207\n",
      "Thoát chương trình!\n"
     ]
    }
   ],
   "source": [
    "# code lab 5  bài làm thêm ở đây \n",
    "from lab5 import MayTinhBoTui\n",
    "import math\n",
    "import datetime\n",
    "menu=MayTinhBoTui()\n",
    "menu.menu()"
   ]
  },
  {
   "cell_type": "code",
   "execution_count": null,
   "id": "045e99b2",
   "metadata": {},
   "outputs": [],
   "source": [
    "\n",
    "        "
   ]
  }
 ],
 "metadata": {
  "kernelspec": {
   "display_name": "pythonpdp302",
   "language": "python",
   "name": "python3"
  },
  "language_info": {
   "codemirror_mode": {
    "name": "ipython",
    "version": 3
   },
   "file_extension": ".py",
   "mimetype": "text/x-python",
   "name": "python",
   "nbconvert_exporter": "python",
   "pygments_lexer": "ipython3",
   "version": "3.11.13"
  }
 },
 "nbformat": 4,
 "nbformat_minor": 5
}
