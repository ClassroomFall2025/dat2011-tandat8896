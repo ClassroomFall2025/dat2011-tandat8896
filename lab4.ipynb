{
 "cells": [
  {
   "cell_type": "markdown",
   "id": "fdeff819",
   "metadata": {},
   "source": [
    "# Sinh Viên thực hiện Lab 4 ở Đây"
   ]
  },
  {
   "cell_type": "markdown",
   "id": "acc5d7dc",
   "metadata": {},
   "source": [
    "## Lab 1 - Bài 1"
   ]
  },
  {
   "cell_type": "code",
   "execution_count": 1,
   "id": "001e0507",
   "metadata": {},
   "outputs": [
    {
     "data": {
      "text/plain": [
       "37500"
      ]
     },
     "execution_count": 1,
     "metadata": {},
     "output_type": "execute_result"
    }
   ],
   "source": [
    "from lab4 import *\n",
    "tinh_tien_nuoc(5)"
   ]
  },
  {
   "cell_type": "markdown",
   "id": "c0835310",
   "metadata": {},
   "source": [
    "## Lab 4 - Bài 2"
   ]
  },
  {
   "cell_type": "code",
   "execution_count": 2,
   "id": "fa9cb39f",
   "metadata": {},
   "outputs": [
    {
     "data": {
      "text/plain": [
       "{'duong': 0.34, 'dau': 0.43000000000000005}"
      ]
     },
     "execution_count": 2,
     "metadata": {},
     "output_type": "execute_result"
    }
   ],
   "source": [
    "# tinh nguyen lieu lam banh\n",
    "def tinh_nguyen_lieu_lam_banh(sl_bdx, sl_btc, sl_bd):\n",
    "    banh_dau_xanh= {\"duong\":0.04, \"dau\": 0.07}\n",
    "    banh_thap_cam= {\"duong\": 0.06, \"dau\": 0}\n",
    "    banh_deo= {\"duong\":0.02, \"dau\": 0.02}\n",
    "    nguyen_lieu= {}\n",
    "    duong_hop_banh= sl_bdx * banh_dau_xanh[\"duong\"] + sl_btc * banh_thap_cam[\"duong\"] + sl_bd * banh_deo[\"duong\"]\n",
    "    dau_hop_banh= sl_bdx * banh_dau_xanh[\"dau\"] + sl_btc * banh_thap_cam[\"dau\"] + sl_bd * banh_deo[\"dau\"]\n",
    "    nguyen_lieu= {\"duong\": duong_hop_banh, \"dau\": dau_hop_banh}\n",
    "    return nguyen_lieu\n",
    "nhap_so_banh= int(input(\"Nhap so banh: \"))\n",
    "nhap_so_btc= int(input(\"Nhap so btc: \"))\n",
    "nhap_so_bd= int(input(\"Nhap so bd: \"))\n",
    "tinh_nguyen_lieu_lam_banh(nhap_so_banh, nhap_so_btc, nhap_so_bd)"
   ]
  },
  {
   "cell_type": "code",
   "execution_count": 5,
   "id": "55fbea94",
   "metadata": {},
   "outputs": [],
   "source": [
    "import importlib\n",
    "import lab4\n",
    "importlib.reload(lab4)\n",
    "from lab4 import *"
   ]
  },
  {
   "cell_type": "code",
   "execution_count": 3,
   "id": "8a7a8376",
   "metadata": {},
   "outputs": [
    {
     "data": {
      "text/plain": [
       "{'duong': 0.6, 'dau': 0.45000000000000007}"
      ]
     },
     "execution_count": 3,
     "metadata": {},
     "output_type": "execute_result"
    }
   ],
   "source": [
    "\n",
    "tinh_nguyen_lieu_lam_banh(5, 5, 5)"
   ]
  },
  {
   "cell_type": "markdown",
   "id": "0f2483fe",
   "metadata": {},
   "source": [
    "## Lab 4 - Bài 3"
   ]
  },
  {
   "cell_type": "code",
   "execution_count": null,
   "id": "7034990b",
   "metadata": {},
   "outputs": [
    {
     "name": "stdout",
     "output_type": "stream",
     "text": [
      "Thoát chương trình\n",
      "Các số chẵn có trong dãy:  [4, 4]\n"
     ]
    }
   ],
   "source": [
    "my_list = []\n",
    "while True:\n",
    "    so = input(\"Nhập số:\")\n",
    "    if so.lower() == \"q\":\n",
    "        print(\"Thoát chương trình\")\n",
    "        break\n",
    "    else:\n",
    "        try:\n",
    "            my_list.append(int(so))\n",
    "            new_list = list(filter(lambda x: (x % 2 == 0), my_list))\n",
    "        except ValueError: \n",
    "            print(\"Số bạn nhập không phải số nguyên\")\n",
    "\n",
    "print(\"Các số chẵn có trong dãy: \", new_list)"
   ]
  },
  {
   "cell_type": "markdown",
   "id": "d36ea3d3",
   "metadata": {},
   "source": [
    "## Lab 4 - Bài 4"
   ]
  },
  {
   "cell_type": "code",
   "execution_count": 1,
   "id": "4c707ec1",
   "metadata": {},
   "outputs": [
    {
     "name": "stdout",
     "output_type": "stream",
     "text": [
      "==============================MENU==============================\n",
      "1. Tinh tien nuoc sinh hoat\n",
      "2. Tinh nguyen lieu lam banh\n",
      "3. Thoat\n",
      "==============================MENU==============================\n",
      "Lua chon khong hop le\n"
     ]
    }
   ],
   "source": [
    "# code lab 4 bài 4 ở đây\n",
    "menu= {\n",
    "    \"1\": \"Tinh tien nuoc sinh hoat\",\n",
    "    \"2\": \"Tinh nguyen lieu lam banh\",\n",
    "    \"3\": \"Thoat\"\n",
    "}\n",
    "while True:\n",
    "    print(\"===\"*10 + \"MENU\" + \"===\"*10)\n",
    "    for key, value in menu.items():\n",
    "        print(f\"{key}. {value}\")\n",
    "    print(\"===\"*10 + \"MENU\" + \"===\"*10)\n",
    "    lua_chon= input(\"Nhap lua chon: \")\n",
    "    if lua_chon == \"1\":\n",
    "        so_nuoc= int(input(\"Nhap so nuoc: \"))\n",
    "        print(f\"So tien nuoc sinh hoat la: {tinh_tien_nuoc(so_nuoc)}\")\n",
    "    elif lua_chon == \"2\":\n",
    "        so_banh= int(input(\"Nhap so banh: \"))\n",
    "        so_btc= int(input(\"Nhap so btc: \"))\n",
    "    else:\n",
    "        print(\"Lua chon khong hop le\")\n",
    "        break"
   ]
  },
  {
   "cell_type": "markdown",
   "id": "e2b41d4a",
   "metadata": {},
   "source": [
    "## Lab 4 - Bài 5: bài tập làm thêm"
   ]
  },
  {
   "cell_type": "code",
   "execution_count": 2,
   "id": "91650cd4",
   "metadata": {},
   "outputs": [
    {
     "name": "stdout",
     "output_type": "stream",
     "text": [
      "==============================\n",
      "\n",
      " MENU:\n",
      "1  Phép tính 2 số: + - x ÷ ^\n",
      "2  Phép tính 1 số: √ sin cos tan log\n",
      "3  Giải phương trình\n",
      "4  Xem lịch sử\n",
      "5  Xem thời gian\n",
      "0  Thoát\n",
      "==============================\n",
      " Thời gian hiện tại: 2025-10-06 11:01:06.089214\n",
      "\n",
      " MENU:\n",
      "1  Phép tính 2 số: + - x ÷ ^\n",
      "2  Phép tính 1 số: √ sin cos tan log\n",
      "3  Giải phương trình\n",
      "4  Xem lịch sử\n",
      "5  Xem thời gian\n",
      "0  Thoát\n",
      "==============================\n",
      "===== LỊCH SỬ TÍNH TOÁN =====\n",
      "Chưa có phép tính nào.\n",
      "\n",
      " MENU:\n",
      "1  Phép tính 2 số: + - x ÷ ^\n",
      "2  Phép tính 1 số: √ sin cos tan log\n",
      "3  Giải phương trình\n",
      "4  Xem lịch sử\n",
      "5  Xem thời gian\n",
      "0  Thoát\n",
      "==============================\n",
      "\n",
      " PHÉP TÍNH 2 SỐ:\n",
      "1: +  2: -  3: x  4: ÷  5: ^\n",
      " 12.0 ÷ 1.0 = 12.0\n",
      "\n",
      " MENU:\n",
      "1  Phép tính 2 số: + - x ÷ ^\n",
      "2  Phép tính 1 số: √ sin cos tan log\n",
      "3  Giải phương trình\n",
      "4  Xem lịch sử\n",
      "5  Xem thời gian\n",
      "0  Thoát\n",
      "==============================\n",
      " Lựa chọn không hợp lệ!\n",
      "\n",
      " MENU:\n",
      "1  Phép tính 2 số: + - x ÷ ^\n",
      "2  Phép tính 1 số: √ sin cos tan log\n",
      "3  Giải phương trình\n",
      "4  Xem lịch sử\n",
      "5  Xem thời gian\n",
      "0  Thoát\n",
      "==============================\n",
      " Lựa chọn không hợp lệ!\n",
      "\n",
      " MENU:\n",
      "1  Phép tính 2 số: + - x ÷ ^\n",
      "2  Phép tính 1 số: √ sin cos tan log\n",
      "3  Giải phương trình\n",
      "4  Xem lịch sử\n",
      "5  Xem thời gian\n",
      "0  Thoát\n",
      "==============================\n",
      " Lựa chọn không hợp lệ!\n",
      "\n",
      " MENU:\n",
      "1  Phép tính 2 số: + - x ÷ ^\n",
      "2  Phép tính 1 số: √ sin cos tan log\n",
      "3  Giải phương trình\n",
      "4  Xem lịch sử\n",
      "5  Xem thời gian\n",
      "0  Thoát\n",
      "==============================\n",
      "\n",
      " GIẢI PHƯƠNG TRÌNH:\n",
      "1: Bậc 1 (ax + b = 0)\n",
      "2: Bậc 2 (ax^2 + bx + c = 0)\n",
      " Bậc không hợp lệ!\n",
      "\n",
      " MENU:\n",
      "1  Phép tính 2 số: + - x ÷ ^\n",
      "2  Phép tính 1 số: √ sin cos tan log\n",
      "3  Giải phương trình\n",
      "4  Xem lịch sử\n",
      "5  Xem thời gian\n",
      "0  Thoát\n",
      "==============================\n",
      " Thời gian hiện tại: 2025-10-06 11:01:08.834572\n",
      "\n",
      " MENU:\n",
      "1  Phép tính 2 số: + - x ÷ ^\n",
      "2  Phép tính 1 số: √ sin cos tan log\n",
      "3  Giải phương trình\n",
      "4  Xem lịch sử\n",
      "5  Xem thời gian\n",
      "0  Thoát\n",
      "==============================\n",
      " Lựa chọn không hợp lệ!\n",
      "\n",
      " MENU:\n",
      "1  Phép tính 2 số: + - x ÷ ^\n",
      "2  Phép tính 1 số: √ sin cos tan log\n",
      "3  Giải phương trình\n",
      "4  Xem lịch sử\n",
      "5  Xem thời gian\n",
      "0  Thoát\n",
      "==============================\n",
      " Lựa chọn không hợp lệ!\n",
      "\n",
      " MENU:\n",
      "1  Phép tính 2 số: + - x ÷ ^\n",
      "2  Phép tính 1 số: √ sin cos tan log\n",
      "3  Giải phương trình\n",
      "4  Xem lịch sử\n",
      "5  Xem thời gian\n",
      "0  Thoát\n",
      "==============================\n",
      " Lựa chọn không hợp lệ!\n",
      "\n",
      " MENU:\n",
      "1  Phép tính 2 số: + - x ÷ ^\n",
      "2  Phép tính 1 số: √ sin cos tan log\n",
      "3  Giải phương trình\n",
      "4  Xem lịch sử\n",
      "5  Xem thời gian\n",
      "0  Thoát\n",
      "==============================\n",
      " Thoat Chuong trinh!\n"
     ]
    }
   ],
   "source": [
    "from lab4 import may_tinh\n",
    "may_tinh()\n"
   ]
  },
  {
   "cell_type": "code",
   "execution_count": 25,
   "id": "0fb8b08a",
   "metadata": {},
   "outputs": [],
   "source": [
    "def filter_so_nguyen():\n",
    "    my_list_so_nguyen_to = []\n",
    "    input_lst= list(map(int, input(\"Nhap vao day so nguyen\").split(',')))\n",
    "    for i in range(len(input_lst)):\n",
    "        if input_lst[i] % 2== 0:\n",
    "            print(f\"so nguyen to {input_lst[i]}\")\n",
    "            my_list_so_nguyen_to.append(input_lst[i])\n",
    "    return my_list_so_nguyen_to"
   ]
  },
  {
   "cell_type": "code",
   "execution_count": null,
   "id": "4c95c73a",
   "metadata": {},
   "outputs": [],
   "source": [
    "def filter_so_nguyen2():\n",
    "    input_lst= list(map(int, input(\"Nhap vao day so nguyen\").split(',')))\n",
    "    check = lambda x: x % 2 == 0\n",
    "    verify = [check(x) for x in input_lst]\n",
    "    return verify"
   ]
  },
  {
   "cell_type": "code",
   "execution_count": 28,
   "id": "1ad1b3b4",
   "metadata": {},
   "outputs": [
    {
     "ename": "TypeError",
     "evalue": "list indices must be integers or slices, not list",
     "output_type": "error",
     "traceback": [
      "\u001b[0;31m---------------------------------------------------------------------------\u001b[0m",
      "\u001b[0;31mTypeError\u001b[0m                                 Traceback (most recent call last)",
      "Cell \u001b[0;32mIn[28], line 1\u001b[0m\n\u001b[0;32m----> 1\u001b[0m \u001b[43mfilter_so_nguyen2\u001b[49m\u001b[43m(\u001b[49m\u001b[43m)\u001b[49m\n",
      "Cell \u001b[0;32mIn[27], line 5\u001b[0m, in \u001b[0;36mfilter_so_nguyen2\u001b[0;34m()\u001b[0m\n\u001b[1;32m      3\u001b[0m check \u001b[38;5;241m=\u001b[39m \u001b[38;5;28;01mlambda\u001b[39;00m x: x \u001b[38;5;241m%\u001b[39m \u001b[38;5;241m2\u001b[39m \u001b[38;5;241m==\u001b[39m \u001b[38;5;241m0\u001b[39m\n\u001b[1;32m      4\u001b[0m verify \u001b[38;5;241m=\u001b[39m [check(x) \u001b[38;5;28;01mfor\u001b[39;00m x \u001b[38;5;129;01min\u001b[39;00m input_lst]\n\u001b[0;32m----> 5\u001b[0m result \u001b[38;5;241m=\u001b[39m \u001b[43minput_lst\u001b[49m\u001b[43m[\u001b[49m\u001b[43mverify\u001b[49m\u001b[43m]\u001b[49m\n\u001b[1;32m      6\u001b[0m \u001b[38;5;28;01mreturn\u001b[39;00m result\n",
      "\u001b[0;31mTypeError\u001b[0m: list indices must be integers or slices, not list"
     ]
    }
   ],
   "source": [
    "filter_so_nguyen2()"
   ]
  },
  {
   "cell_type": "code",
   "execution_count": 26,
   "id": "86624191",
   "metadata": {},
   "outputs": [
    {
     "name": "stdout",
     "output_type": "stream",
     "text": [
      "so nguyen to 4\n",
      "so nguyen to 6\n",
      "so nguyen to 8\n",
      "so nguyen to 2\n",
      "so nguyen to 8\n"
     ]
    },
    {
     "data": {
      "text/plain": [
       "[4, 6, 8, 2, 8]"
      ]
     },
     "execution_count": 26,
     "metadata": {},
     "output_type": "execute_result"
    }
   ],
   "source": [
    "filter_so_nguyen()"
   ]
  },
  {
   "cell_type": "code",
   "execution_count": null,
   "id": "34191bb7",
   "metadata": {},
   "outputs": [],
   "source": [
    "\n",
    "input_lst= list(map(int, input(\"Nhap vao day so nguyen\").split(',')))\n",
    "check = lambda x: x % 2 == 0\n",
    "verify = [check(x) for x in input_lst]"
   ]
  }
 ],
 "metadata": {
  "kernelspec": {
   "display_name": "fraud_detect",
   "language": "python",
   "name": "python3"
  },
  "language_info": {
   "codemirror_mode": {
    "name": "ipython",
    "version": 3
   },
   "file_extension": ".py",
   "mimetype": "text/x-python",
   "name": "python",
   "nbconvert_exporter": "python",
   "pygments_lexer": "ipython3",
   "version": "3.10.18"
  }
 },
 "nbformat": 4,
 "nbformat_minor": 5
}
