{
 "cells": [
  {
   "cell_type": "markdown",
   "id": "fdeff819",
   "metadata": {},
   "source": [
    "# Sinh Viên thực hiện Lab 4 ở Đây"
   ]
  },
  {
   "cell_type": "markdown",
   "id": "acc5d7dc",
   "metadata": {},
   "source": [
    "## Lab 1 - Bài 1"
   ]
  },
  {
   "cell_type": "code",
   "execution_count": 3,
   "id": "001e0507",
   "metadata": {},
   "outputs": [
    {
     "data": {
      "text/plain": [
       "37500"
      ]
     },
     "execution_count": 3,
     "metadata": {},
     "output_type": "execute_result"
    }
   ],
   "source": [
    "from lab4 import *\n",
    "tinh_tien_nuoc(5)"
   ]
  },
  {
   "cell_type": "markdown",
   "id": "c0835310",
   "metadata": {},
   "source": [
    "## Lab 4 - Bài 2"
   ]
  },
  {
   "cell_type": "code",
   "execution_count": null,
   "id": "fa9cb39f",
   "metadata": {},
   "outputs": [
    {
     "data": {
      "text/plain": [
       "{'duong': 0.34, 'dau': 0.43000000000000005}"
      ]
     },
     "execution_count": 2,
     "metadata": {},
     "output_type": "execute_result"
    }
   ],
   "source": [
    "# # tinh nguyen lieu lam banh\n",
    "# def tinh_nguyen_lieu_lam_banh(sl_bdx, sl_btc, sl_bd):\n",
    "#     banh_dau_xanh= {\"duong\":0.04, \"dau\": 0.07}\n",
    "#     banh_thap_cam= {\"duong\": 0.06, \"dau\": 0}\n",
    "#     banh_deo= {\"duong\":0.02, \"dau\": 0.02}\n",
    "#     nguyen_lieu= {}\n",
    "#     duong_hop_banh= sl_bdx * banh_dau_xanh[\"duong\"] + sl_btc * banh_thap_cam[\"duong\"] + sl_bd * banh_deo[\"duong\"]\n",
    "#     dau_hop_banh= sl_bdx * banh_dau_xanh[\"dau\"] + sl_btc * banh_thap_cam[\"dau\"] + sl_bd * banh_deo[\"dau\"]\n",
    "#     nguyen_lieu= {\"duong\": duong_hop_banh, \"dau\": dau_hop_banh}\n",
    "#     return nguyen_lieu\n",
    "# nhap_so_banh= int(input(\"Nhap so banh: \"))\n",
    "# nhap_so_btc= int(input(\"Nhap so btc: \"))\n",
    "# nhap_so_bd= int(input(\"Nhap so bd: \"))\n",
    "# tinh_nguyen_lieu_lam_banh(nhap_so_banh, nhap_so_btc, nhap_so_bd)"
   ]
  },
  {
   "cell_type": "code",
   "execution_count": 1,
   "id": "55fbea94",
   "metadata": {},
   "outputs": [],
   "source": [
    "import importlib\n",
    "import lab4\n",
    "importlib.reload(lab4)\n",
    "from lab4 import *"
   ]
  },
  {
   "cell_type": "code",
   "execution_count": 4,
   "id": "8a7a8376",
   "metadata": {},
   "outputs": [
    {
     "data": {
      "text/plain": [
       "{'duong': 0.6, 'dau': 0.45000000000000007}"
      ]
     },
     "execution_count": 4,
     "metadata": {},
     "output_type": "execute_result"
    }
   ],
   "source": [
    "\n",
    "tinh_nguyen_lieu_lam_banh(5, 5, 5)"
   ]
  },
  {
   "cell_type": "markdown",
   "id": "0f2483fe",
   "metadata": {},
   "source": [
    "## Lab 4 - Bài 3"
   ]
  },
  {
   "cell_type": "code",
   "execution_count": 5,
   "id": "7034990b",
   "metadata": {},
   "outputs": [],
   "source": [
    "from lab4 import filter_so_nguyen\n",
    "\n",
    "\n"
   ]
  },
  {
   "cell_type": "code",
   "execution_count": 7,
   "id": "744a446a",
   "metadata": {},
   "outputs": [
    {
     "name": "stdout",
     "output_type": "stream",
     "text": [
      "so nguyen to 2\n",
      "so nguyen to 4\n",
      "so nguyen to 6\n"
     ]
    },
    {
     "data": {
      "text/plain": [
       "[2, 4, 6]"
      ]
     },
     "execution_count": 7,
     "metadata": {},
     "output_type": "execute_result"
    }
   ],
   "source": [
    "filter_so_nguyen()"
   ]
  },
  {
   "cell_type": "code",
   "execution_count": 13,
   "id": "1e546986",
   "metadata": {},
   "outputs": [
    {
     "name": "stdout",
     "output_type": "stream",
     "text": [
      "Danh sach so chan: [4, 6]\n"
     ]
    },
    {
     "data": {
      "text/plain": [
       "[4, 6]"
      ]
     },
     "execution_count": 13,
     "metadata": {},
     "output_type": "execute_result"
    }
   ],
   "source": [
    "import importlib\n",
    "import lab4\n",
    "importlib.reload(lab4)\n",
    "from lab4 import filter_so_nguyen_1\n",
    "filter_so_nguyen_1()\n"
   ]
  },
  {
   "cell_type": "markdown",
   "id": "d36ea3d3",
   "metadata": {},
   "source": [
    "## Lab 4 - Bài 4"
   ]
  },
  {
   "cell_type": "code",
   "execution_count": 1,
   "id": "4c707ec1",
   "metadata": {},
   "outputs": [
    {
     "name": "stdout",
     "output_type": "stream",
     "text": [
      "==============================MENU==============================\n",
      "1. Tinh tien nuoc sinh hoat\n",
      "2. Tinh nguyen lieu lam banh\n",
      "3. Thoat\n",
      "==============================MENU==============================\n",
      "Lua chon khong hop le\n"
     ]
    }
   ],
   "source": [
    "# code lab 4 bài 4 ở đây\n",
    "menu= {\n",
    "    \"1\": \"Tinh tien nuoc sinh hoat\",\n",
    "    \"2\": \"Tinh nguyen lieu lam banh\",\n",
    "    \"3\": \"Thoat\"\n",
    "}\n",
    "while True:\n",
    "    print(\"===\"*10 + \"MENU\" + \"===\"*10)\n",
    "    for key, value in menu.items():\n",
    "        print(f\"{key}. {value}\")\n",
    "    print(\"===\"*10 + \"MENU\" + \"===\"*10)\n",
    "    lua_chon= input(\"Nhap lua chon: \")\n",
    "    if lua_chon == \"1\":\n",
    "        so_nuoc= int(input(\"Nhap so nuoc: \"))\n",
    "        print(f\"So tien nuoc sinh hoat la: {tinh_tien_nuoc(so_nuoc)}\")\n",
    "    elif lua_chon == \"2\":\n",
    "        so_banh= int(input(\"Nhap so banh: \"))\n",
    "        so_btc= int(input(\"Nhap so btc: \"))\n",
    "    else:\n",
    "        print(\"Lua chon khong hop le\")\n",
    "        break"
   ]
  },
  {
   "cell_type": "markdown",
   "id": "e2b41d4a",
   "metadata": {},
   "source": [
    "## Lab 4 - Bài 5: bài tập làm thêm"
   ]
  },
  {
   "cell_type": "code",
   "execution_count": 8,
   "id": "91650cd4",
   "metadata": {},
   "outputs": [
    {
     "name": "stdout",
     "output_type": "stream",
     "text": [
      "==============================\n",
      "\n",
      " MENU:\n",
      "1  Phép tính 2 số: + - x ÷ ^\n",
      "2  Phép tính 1 số: √ sin cos tan log\n",
      "3  Giải phương trình\n",
      "4  Xem lịch sử\n",
      "5  Xem thời gian\n",
      "0  Thoát\n",
      "==============================\n",
      "\n",
      " PHÉP TÍNH 2 SỐ:\n",
      "1: +  2: -  3: x  4: ÷  5: ^\n",
      " Phép tính không hợp lệ!\n",
      "\n",
      " MENU:\n",
      "1  Phép tính 2 số: + - x ÷ ^\n",
      "2  Phép tính 1 số: √ sin cos tan log\n",
      "3  Giải phương trình\n",
      "4  Xem lịch sử\n",
      "5  Xem thời gian\n",
      "0  Thoát\n",
      "==============================\n",
      " Thoat Chuong trinh!\n"
     ]
    }
   ],
   "source": [
    "from lab4 import may_tinh\n",
    "may_tinh()\n"
   ]
  },
  {
   "cell_type": "code",
   "execution_count": null,
   "id": "0fb8b08a",
   "metadata": {},
   "outputs": [],
   "source": [
    "# def filter_so_nguyen():\n",
    "#     my_list_so_nguyen_to = []\n",
    "#     input_lst= list(map(int, input(\"Nhap vao day so nguyen\").split(',')))\n",
    "#     for i in range(len(input_lst)):\n",
    "#         if input_lst[i] % 2== 0:\n",
    "#             print(f\"so nguyen to {input_lst[i]}\")\n",
    "#             my_list_so_nguyen_to.append(input_lst[i])\n",
    "#     return my_list_so_nguyen_to"
   ]
  },
  {
   "cell_type": "code",
   "execution_count": 26,
   "id": "86624191",
   "metadata": {},
   "outputs": [
    {
     "name": "stdout",
     "output_type": "stream",
     "text": [
      "so nguyen to 4\n",
      "so nguyen to 6\n",
      "so nguyen to 8\n",
      "so nguyen to 2\n",
      "so nguyen to 8\n"
     ]
    },
    {
     "data": {
      "text/plain": [
       "[4, 6, 8, 2, 8]"
      ]
     },
     "execution_count": 26,
     "metadata": {},
     "output_type": "execute_result"
    }
   ],
   "source": [
    "filter_so_nguyen()"
   ]
  },
  {
   "cell_type": "code",
   "execution_count": null,
   "id": "34191bb7",
   "metadata": {},
   "outputs": [],
   "source": [
    "\n",
    "input_lst= list(map(int, input(\"Nhap vao day so nguyen\").split(',')))\n",
    "check = lambda x: x % 2 == 0\n",
    "verify = [check(x) for x in input_lst]"
   ]
  }
 ],
 "metadata": {
  "kernelspec": {
   "display_name": "pythonpdp302",
   "language": "python",
   "name": "python3"
  },
  "language_info": {
   "codemirror_mode": {
    "name": "ipython",
    "version": 3
   },
   "file_extension": ".py",
   "mimetype": "text/x-python",
   "name": "python",
   "nbconvert_exporter": "python",
   "pygments_lexer": "ipython3",
   "version": "3.11.13"
  }
 },
 "nbformat": 4,
 "nbformat_minor": 5
}
