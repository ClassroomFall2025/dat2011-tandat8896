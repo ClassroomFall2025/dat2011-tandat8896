{
 "cells": [
  {
   "cell_type": "markdown",
   "id": "fdeff819",
   "metadata": {},
   "source": [
    "# Sinh Viên thực hiện Lab 2 ở Đây"
   ]
  },
  {
   "cell_type": "markdown",
   "id": "acc5d7dc",
   "metadata": {},
   "source": [
    "## Lab 2 - Bài 1"
   ]
  },
  {
   "cell_type": "code",
   "execution_count": null,
   "id": "001e0507",
   "metadata": {},
   "outputs": [
    {
     "name": "stdout",
     "output_type": "stream",
     "text": [
      "1A\n",
      "từ con người có trong bài thơ: True\n",
      "----------\n",
      "1B\n",
      "từ con người trong câu: Kiếp con người mỏng manh như là gió: con người\n",
      "----------\n",
      "1C\n"
     ]
    },
    {
     "data": {
      "text/plain": [
       "'CON NGƯỜI'"
      ]
     },
     "execution_count": 1,
     "metadata": {},
     "output_type": "execute_result"
    }
   ],
   "source": [
    "Bai_Tho= \"\"\"Kiếp con người mỏng manh như là gió\n",
    "Sống trên đời có được mấy lần vui\n",
    "Sao phải đau mà không thể mĩm cười\n",
    "Gắng buông nổi ngậm ngùi nơi quá khứ\n",
    "\\n\n",
    "Nếu có thể sao ta không làm thử \n",
    "Để tâm hồn khắc hai chữ bình an\n",
    "Cho đôi chân bước thanh thản nhẹ nhàng\n",
    "Dù hướng đời có muôn ngàn sỏi đá\n",
    "\"\"\"\n",
    "\n",
    "# print(Bai_Tho)\n",
    "\n",
    "query= \"con người\"\n",
    "# Bai_Tho.find(query)\n",
    "print(\"1A\")\n",
    "print(f\"từ con người có trong bài thơ: {query in Bai_Tho}\")\n",
    "print(f\"-\"*10)\n",
    "\n",
    "print(\"1B\")\n",
    "cau_1b= Bai_Tho.split(\"\\n\")[0]\n",
    "start= cau_1b.find(query)\n",
    "length= len(query)\n",
    "\n",
    "tu_con_nguoi= cau_1b[start:start+length]\n",
    "print(f\"từ con người trong câu: {cau_1b}: {tu_con_nguoi}\")\n",
    "print(f\"-\"*10)\n",
    "\n",
    "\n",
    "\n",
    "\n",
    "print(\"1C\")\n",
    "query.upper()\n",
    "\n",
    "print(f\"thay đổi để nôp github\")"
   ]
  },
  {
   "cell_type": "code",
   "execution_count": null,
   "id": "4a2947b8",
   "metadata": {},
   "outputs": [
    {
     "name": "stdout",
     "output_type": "stream",
     "text": [
      "kết quả từ python trong text: python\n"
     ]
    }
   ],
   "source": [
    "text= \"lập trình python rất dễ\"\n",
    "start= text.find(\"python\")\n",
    "length= len(\"python\")\n",
    "stop= start + length\n",
    "ket_qua= text[start: stop]\n",
    "print(f\"kết quả từ python trong text: {ket_qua}\")\n",
    "\n",
    "print(f\"thay đổi để nôp github\")"
   ]
  },
  {
   "cell_type": "code",
   "execution_count": 11,
   "id": "ca769493",
   "metadata": {},
   "outputs": [
    {
     "name": "stdout",
     "output_type": "stream",
     "text": [
      "lập trình python rất dễ\n",
      "tôi cũng muốn học python\n"
     ]
    }
   ],
   "source": [
    "text1= \"tôi cũng muốn học python\"\n",
    "\n",
    "ket_qua1=text+ \"\\n\" + text1\n",
    "print(ket_qua1)"
   ]
  },
  {
   "cell_type": "markdown",
   "id": "c0835310",
   "metadata": {},
   "source": [
    "## Lab 2 - Bài 2"
   ]
  },
  {
   "cell_type": "code",
   "execution_count": null,
   "id": "fa9cb39f",
   "metadata": {},
   "outputs": [
    {
     "name": "stdout",
     "output_type": "stream",
     "text": [
      "2A\n",
      "----------\n",
      "Kiếp con người mỏng manh như là gió\n",
      "Sống trên đời có được mấy lần vui\n",
      "Sao phải đau mà không thể mĩm cười\n",
      "Gắng buông nổi ngậm ngùi nơi quá khứ\n",
      "\n",
      "\n",
      "Nếu có thể sao ta không làm thử \n",
      "Để tâm hồn khắc hai chữ hạnh phúc\n",
      "Cho đôi chân bước thanh thản nhẹ nhàng\n",
      "Dù hướng đời có muôn ngàn sỏi đá\n",
      "\n",
      "----------\n",
      "2B\n",
      "----------\n",
      "...\n",
      "Kiếp con người mỏng manh như là gió\n",
      "Sống trên đời có được mấy lần vui\n",
      "Sao phải đau mà không thể mĩm cười\n",
      "Gắng buông nổi ngậm ngùi nơi quá khứ\n",
      "\n",
      "\n",
      "Nếu có thể sao ta không làm thử \n",
      "Để tâm hồn khắc hai chữ hạnh phúc\n",
      "Cho đôi chân bước thanh thản nhẹ nhàng\n",
      "Dù hướng đời có muôn ngàn sỏi đá\n",
      "...\n",
      "2C\n",
      "----------\n",
      "...\n",
      "Kiếp con người mỏng manh như là gió\n",
      "Sống trên đời có được mấy lần vui\n",
      "Sao phải đau mà không thể mĩm cười\n",
      "Gắng buông nổi ngậm ngùi nơi quá khứ\n",
      "\n",
      "\n",
      "Nếu có thể sao ta không làm thử \n",
      "Để tâm hồn khắc hai chữ hạnh phúc\n",
      "Cho đôi chân bước thanh thản nhẹ nhàng\n",
      "Dù hướng đời có muôn ngàn sỏi đá\n",
      "...\n"
     ]
    }
   ],
   "source": [
    "print(\"2A\")\n",
    "print(f\"-\"*10)\n",
    "Bai_Tho_Da_replace= Bai_Tho.replace(\"bình an\", \"hạnh phúc\")\n",
    "print(Bai_Tho_Da_replace)\n",
    "print(f\"-\"*10)\n",
    "\n",
    "print(\"2B\")\n",
    "print(f\"-\"*10)\n",
    "Bai_Tho_2B= \"...\" + \"\\n\" + Bai_Tho_Da_replace + \"...\"\n",
    "print(Bai_Tho_2B)\n",
    "\n",
    "\n",
    "print(\"2C\")\n",
    "print(f\"-\"*10)\n",
    "print(Bai_Tho_2B)\n",
    "\n",
    "print(f\"thay đổi để nôp github\")"
   ]
  },
  {
   "cell_type": "markdown",
   "id": "0f2483fe",
   "metadata": {},
   "source": [
    "## Lab 2 - Bài 3"
   ]
  },
  {
   "cell_type": "code",
   "execution_count": null,
   "id": "7034990b",
   "metadata": {},
   "outputs": [
    {
     "name": "stdout",
     "output_type": "stream",
     "text": [
      "Phương trình có nghiệm x = -0.0\n"
     ]
    }
   ],
   "source": [
    "a = float(input(\"Nhập vào số nguyên a: \"))\n",
    "b = float(input(\"Nhập vào số nguyên b: \"))\n",
    "\n",
    "if a==0:\n",
    "    if b==0:\n",
    "        print(\"Phương trình có vô số nghiệm\")\n",
    "    else:\n",
    "        print(\"Phương trình vô nghiệm\")\n",
    "else:\n",
    "    x = -b/a\n",
    "    print(f\"Phương trình có nghiệm x = {x}\")\n",
    "\n",
    "print(f\"thay đổi để nôp github\")"
   ]
  },
  {
   "cell_type": "markdown",
   "id": "d36ea3d3",
   "metadata": {},
   "source": [
    "## Lab 2 - Bài 4"
   ]
  },
  {
   "cell_type": "code",
   "execution_count": null,
   "id": "4c707ec1",
   "metadata": {},
   "outputs": [
    {
     "name": "stdout",
     "output_type": "stream",
     "text": [
      "Phương trình vô nghiệm\n"
     ]
    }
   ],
   "source": [
    "import math \n",
    "\n",
    "a = float(input(\"Nhập vào số nguyên a: \"))\n",
    "b = float(input(\"Nhập vào số nguyên b: \"))\n",
    "c = float(input(\"Nhập vào số nguyên c: \"))\n",
    "\n",
    "delta = b**2 - 4*a*c\n",
    "\n",
    "\n",
    "if a==0:\n",
    "    if b==0:\n",
    "        if c==0:\n",
    "            print(\"Phương trình có vô số nghiệm\")\n",
    "    else:\n",
    "        x=-c/b\n",
    "        print(f\"Phương trình có nghiệm x = {x}\")\n",
    "\n",
    "else:\n",
    "    if delta<0:\n",
    "        print(\"Phương trình vô nghiệm\")\n",
    "    elif delta==0:\n",
    "        x=-b/(2*a)\n",
    "        print(f\"Phương trình có nghiệm kép x = {x}\")\n",
    "    else:\n",
    "        x1=(-b+math.sqrt(delta))/(2*a)\n",
    "        x2=(-b-math.sqrt(delta))/(2*a)\n",
    "        print(f\"Phương trình có 2 nghiệm phân biệt: x1 = {x1}, x2 = {x2}\")\n",
    "\n",
    "print(f\"thay đổi để nôp github\")"
   ]
  },
  {
   "cell_type": "markdown",
   "id": "e2b41d4a",
   "metadata": {},
   "source": [
    "## Lab 2 - Bài 5: bài tập làm thêm"
   ]
  },
  {
   "cell_type": "code",
   "execution_count": 27,
   "id": "0e0172f7",
   "metadata": {},
   "outputs": [
    {
     "name": "stdout",
     "output_type": "stream",
     "text": [
      "số lớn nhất là 4.0\n"
     ]
    }
   ],
   "source": [
    "a= float(input(\"Nhập vào số nguyên a: \"))\n",
    "b= float(input(\"Nhập vào số nguyên b: \"))\n",
    "c= float(input(\"Nhập vào số nguyên c: \"))\n",
    "\n",
    "max= a if a > b else b\n",
    "max= max if max > c else c\n",
    "print(f\"số lớn nhất là {max}\")\n"
   ]
  },
  {
   "cell_type": "code",
   "execution_count": 37,
   "id": "1ddb210a",
   "metadata": {},
   "outputs": [
    {
     "name": "stdout",
     "output_type": "stream",
     "text": [
      "5.0\n"
     ]
    }
   ],
   "source": [
    "a= float(input(\"Nhập vào số nguyên a: \"))\n",
    "b= float(input(\"Nhập vào số nguyên b: \"))\n",
    "c= float(input(\"Nhập vào số nguyên c: \"))\n",
    "max= a if a > b else b if max > c else c\n",
    "print(max)"
   ]
  },
  {
   "cell_type": "code",
   "execution_count": 26,
   "id": "89c312fe",
   "metadata": {},
   "outputs": [
    {
     "name": "stdout",
     "output_type": "stream",
     "text": [
      "Bạn không đủ tuổi đi nghĩa vụ quân sự\n"
     ]
    }
   ],
   "source": [
    "#Bai Tap Lam Them\n",
    "age= int(input(\"Nhập vào tuổi của bạn\"))\n",
    "if age < 18:\n",
    "    print(\"Bạn không đủ tuổi đi nghĩa vụ quân sự\")\n",
    "else:\n",
    "    print(\"Bạn đủ tuổi đi nghĩa vụ quân sự\")\n",
    "    print(\"Bạn đã đủ tuổi lấy vợ\")\n",
    "    print(\"Bạn đã đủ tuổi đi làm\")"
   ]
  },
  {
   "cell_type": "code",
   "execution_count": 19,
   "id": "9b1433b8",
   "metadata": {},
   "outputs": [
    {
     "name": "stdout",
     "output_type": "stream",
     "text": [
      "Kết quả của phép tính 5.0 / 4.0 =  1.25\n"
     ]
    }
   ],
   "source": [
    "so1= float(input(\"Nhập vào số thứ nhất\"))\n",
    "so2= float(input(\"Nhập vào số thứ hai\"))\n",
    "toantu= input(\"Nhập vào toán tử\")\n",
    "if toantu == \"+\":\n",
    "    ket_qua= so1 + so2\n",
    "elif toantu == \"-\":\n",
    "    ket_qua= so1 - so2\n",
    "elif toantu == \"*\":\n",
    "    ket_qua= so1 * so2\n",
    "elif toantu == \"/\":\n",
    "    if so2 == 0:\n",
    "        print(\"Không thể chia cho 0\")\n",
    "        raise ValueError(\"Không thể chia cho 0\")\n",
    "    else:\n",
    "        ket_qua= so1 / so2\n",
    "print(f\"Kết quả của phép tính {so1} {toantu} {so2} =  {ket_qua}\")\n"
   ]
  },
  {
   "cell_type": "code",
   "execution_count": 20,
   "id": "22e3b58c",
   "metadata": {},
   "outputs": [
    {
     "name": "stdout",
     "output_type": "stream",
     "text": [
      "trung bình\n"
     ]
    }
   ],
   "source": [
    "GPA= float(input(\"Nhập vào GPA của bạn\"))\n",
    "if GPA >= 9.0:\n",
    "    print(\"Xuất xích\")\n",
    "elif GPA >=8.0 and GPA < 9.0:\n",
    "    print(\"giỏi\")\n",
    "elif GPA >=5.0 and GPA <8:\n",
    "    print(\"trung bình\")\n",
    "else:\n",
    "    print(\"Bạn đã rớt rồi :@\")"
   ]
  },
  {
   "cell_type": "code",
   "execution_count": null,
   "id": "bca30570",
   "metadata": {},
   "outputs": [
    {
     "name": "stdout",
     "output_type": "stream",
     "text": [
      "số lớn nhất là 5.0\n"
     ]
    }
   ],
   "source": [
    "so_1= float(input(\"Nhập vào số thứ nhất\"))\n",
    "so_2= float(input(\"Nhập vào số thứ hai\"))\n",
    "if so_1 > so_2:\n",
    "    print(f\"số lớn nhất là {so_1}\")\n",
    "elif so_1 < so_2:\n",
    "    print(f\"so lớn nhất là {so_2}\")\n",
    "else:\n",
    "    print(\"Hai số bằng nhau\")\n",
    "\n",
    "    "
   ]
  },
  {
   "cell_type": "code",
   "execution_count": 23,
   "id": "88e7d855",
   "metadata": {},
   "outputs": [
    {
     "name": "stdout",
     "output_type": "stream",
     "text": [
      "số lớn nhất là 5.0\n"
     ]
    }
   ],
   "source": [
    "so_1= float(input(\"Nhập vào số thứ nhất\"))\n",
    "so_2= float(input(\"Nhập vào số thứ hai\"))\n",
    "max= so_1 if so_1 > so_2 else so_2\n",
    "print(f\"số lớn nhất là {max}\")"
   ]
  },
  {
   "cell_type": "code",
   "execution_count": null,
   "id": "053f08ae",
   "metadata": {},
   "outputs": [],
   "source": []
  }
 ],
 "metadata": {
  "kernelspec": {
   "display_name": "pythonpdp302",
   "language": "python",
   "name": "python3"
  },
  "language_info": {
   "codemirror_mode": {
    "name": "ipython",
    "version": 3
   },
   "file_extension": ".py",
   "mimetype": "text/x-python",
   "name": "python",
   "nbconvert_exporter": "python",
   "pygments_lexer": "ipython3",
   "version": "3.11.13"
  }
 },
 "nbformat": 4,
 "nbformat_minor": 5
}
