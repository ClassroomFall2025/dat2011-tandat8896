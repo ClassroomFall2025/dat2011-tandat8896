{
 "cells": [
  {
   "cell_type": "markdown",
   "id": "fdeff819",
   "metadata": {},
   "source": [
    "# Sinh Viên thực hiện Lab 1 ở Đây"
   ]
  },
  {
   "cell_type": "markdown",
   "id": "acc5d7dc",
   "metadata": {},
   "source": [
    "## Lab 1 - Bài 1"
   ]
  },
  {
   "cell_type": "code",
   "execution_count": null,
   "id": "f6adc89a",
   "metadata": {},
   "outputs": [
    {
     "name": "stdout",
     "output_type": "stream",
     "text": [
      "Ten Toi La Tan Dat\n",
      "Toi Den tu TPHCM\n"
     ]
    }
   ],
   "source": [
    "print(\"xin chao\")\n",
    "print(\"Ten Toi La Tan Dat\")\n",
    "print(\"Toi Den tu TPHCM\")"
   ]
  },
  {
   "cell_type": "code",
   "execution_count": null,
   "id": "d3c4b551",
   "metadata": {},
   "outputs": [],
   "source": []
  },
  {
   "cell_type": "markdown",
   "id": "c0835310",
   "metadata": {},
   "source": [
    "## Lab 1 - Bài 2"
   ]
  },
  {
   "cell_type": "code",
   "execution_count": 8,
   "id": "fa9cb39f",
   "metadata": {},
   "outputs": [
    {
     "name": "stdout",
     "output_type": "stream",
     "text": [
      "chu vi hinh chu nhat 18.0\n",
      "dien tich hinh chu nhat 20.0\n"
     ]
    }
   ],
   "source": [
    "chieu_dai= float(input(\"Nhap Chieu Dai\"))\n",
    "chieu_rong= float(input(\"nhap chieu rong\"))\n",
    "chu_vi = (chieudai + chieurong)*2\n",
    "dien_tich= chieudai * chieurong\n",
    "\n",
    "print(f\"chu vi hinh chu nhat {chu_vi}\")\n",
    "print(f\"dien tich hinh chu nhat {dien_tich}\")"
   ]
  },
  {
   "cell_type": "markdown",
   "id": "0f2483fe",
   "metadata": {},
   "source": [
    "## Lab 1 - Bài 3"
   ]
  },
  {
   "cell_type": "code",
   "execution_count": 7,
   "id": "7034990b",
   "metadata": {},
   "outputs": [
    {
     "name": "stdout",
     "output_type": "stream",
     "text": [
      "...\n",
      "Sống Không Giận, không hờn không oán trách\n",
      "Sống mĩm cười, với thử thách chông gai\n",
      "Sống vươn lên, theo kịp ánh ban mai\n",
      "Sống chan hòa , với người chung sống \n",
      "                                         \n",
      "Sống là ,động nhưng lòng luôn bất động \n",
      "Sống là thương, nhưng lòng chẳng vấn vương\n",
      "Sống yên vui, danh lợi mãi coi thường\n",
      "Tâm bất biến giữa dòng đời vạn biến \n",
      "....\n"
     ]
    }
   ],
   "source": [
    "Tu_Song= \"Sống\"\n",
    "print(\"...\")\n",
    "print(f\"{Tu_Song} Không Giận, không hờn không oán trách\")\n",
    "print(f\"{Tu_Song} mĩm cười, với thử thách chông gai\")\n",
    "print(f\"{Tu_Song} vươn lên, theo kịp ánh ban mai\")\n",
    "print(f\"{Tu_Song} chan hòa , với người chung sống \")\n",
    "print(\"                                         \")\n",
    "print(f\"{Tu_Song} là ,động nhưng lòng luôn bất động \")\n",
    "print(f\"{Tu_Song} là thương, nhưng lòng chẳng vấn vương\")\n",
    "print(f\"{Tu_Song} yên vui, danh lợi mãi coi thường\")\n",
    "print(\"Tâm bất biến giữa dòng đời vạn biến \")\n",
    "print(\"....\")"
   ]
  },
  {
   "cell_type": "markdown",
   "id": "d36ea3d3",
   "metadata": {},
   "source": [
    "## Lab 1 - Bài 4"
   ]
  },
  {
   "cell_type": "code",
   "execution_count": 23,
   "id": "ebf088aa",
   "metadata": {},
   "outputs": [
    {
     "name": "stderr",
     "output_type": "stream",
     "text": [
      "ERROR: Could not find a version that satisfies the requirement math (from versions: none)\n",
      "ERROR: No matching distribution found for math\n"
     ]
    }
   ],
   "source": [
    "!pip install math\n"
   ]
  },
  {
   "cell_type": "code",
   "execution_count": 34,
   "id": "4c707ec1",
   "metadata": {},
   "outputs": [
    {
     "name": "stdout",
     "output_type": "stream",
     "text": [
      "10.198039027185569\n"
     ]
    }
   ],
   "source": [
    "import math\n",
    "from unittest import result \n",
    "\n",
    "a=int(5)\n",
    "b=int(6)\n",
    "c=int(7)\n",
    "\n",
    "del_ta = b* b -4*a*c\n",
    "result= math.sqrt(abs(del_ta))\n",
    "print(result)\n",
    "\n",
    "\n",
    "\n",
    "    \n",
    "\n",
    "\n"
   ]
  },
  {
   "cell_type": "markdown",
   "id": "e2b41d4a",
   "metadata": {},
   "source": [
    "## Lab 1 - Bài 5: bài tập làm thêm"
   ]
  },
  {
   "cell_type": "code",
   "execution_count": null,
   "id": "0e0172f7",
   "metadata": {},
   "outputs": [],
   "source": [
    "# code lab 1  bài làm thêm ở đây "
   ]
  }
 ],
 "metadata": {
  "kernelspec": {
   "display_name": "pythonpdp302",
   "language": "python",
   "name": "python3"
  },
  "language_info": {
   "codemirror_mode": {
    "name": "ipython",
    "version": 3
   },
   "file_extension": ".py",
   "mimetype": "text/x-python",
   "name": "python",
   "nbconvert_exporter": "python",
   "pygments_lexer": "ipython3",
   "version": "3.11.13"
  }
 },
 "nbformat": 4,
 "nbformat_minor": 5
}
