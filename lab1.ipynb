{
 "cells": [
  {
   "cell_type": "markdown",
   "id": "fdeff819",
   "metadata": {},
   "source": [
    "# Sinh Viên thực hiện Lab 1 ở Đây"
   ]
  },
  {
   "cell_type": "markdown",
   "id": "acc5d7dc",
   "metadata": {},
   "source": [
    "## Lab 1 - Bài 1"
   ]
  },
  {
   "cell_type": "code",
   "execution_count": null,
   "id": "f6adc89a",
   "metadata": {},
   "outputs": [
    {
     "name": "stdout",
     "output_type": "stream",
     "text": [
      "Ten Toi La Tan Dat\n",
      "Toi Den tu TPHCM\n"
     ]
    }
   ],
   "source": [
    "print(\"xin chao\")\n",
    "print(\"Ten Toi La Tan Dat\")\n",
    "print(\"Toi Den tu TPHCM\")"
   ]
  },
  {
   "cell_type": "code",
   "execution_count": null,
   "id": "d3c4b551",
   "metadata": {},
   "outputs": [],
   "source": []
  },
  {
   "cell_type": "markdown",
   "id": "c0835310",
   "metadata": {},
   "source": [
    "## Lab 1 - Bài 2"
   ]
  },
  {
   "cell_type": "code",
   "execution_count": null,
   "id": "fa9cb39f",
   "metadata": {},
   "outputs": [
    {
     "name": "stdout",
     "output_type": "stream",
     "text": [
      "chu vi hinh chu nhat 18.0\n",
      "dien tich hinh chu nhat 20.0\n"
     ]
    }
   ],
   "source": [
    "chieu_dai= float(input(\"Nhap Chieu Dai\"))\n",
    "chieu_rong= float(input(\"nhap chieu rong\"))\n",
    "chu_vi = (chieu_dai + chieu_dai)*2\n",
    "dien_tich= chieu_dai * chieu_rong\n",
    "\n",
    "print(f\"chu vi hinh chu nhat {chu_vi}\")\n",
    "print(f\"dien tich hinh chu nhat {dien_tich}\")"
   ]
  },
  {
   "cell_type": "markdown",
   "id": "0f2483fe",
   "metadata": {},
   "source": [
    "## Lab 1 - Bài 3"
   ]
  },
  {
   "cell_type": "code",
   "execution_count": 7,
   "id": "7034990b",
   "metadata": {},
   "outputs": [
    {
     "name": "stdout",
     "output_type": "stream",
     "text": [
      "...\n",
      "Sống Không Giận, không hờn không oán trách\n",
      "Sống mĩm cười, với thử thách chông gai\n",
      "Sống vươn lên, theo kịp ánh ban mai\n",
      "Sống chan hòa , với người chung sống \n",
      "                                         \n",
      "Sống là ,động nhưng lòng luôn bất động \n",
      "Sống là thương, nhưng lòng chẳng vấn vương\n",
      "Sống yên vui, danh lợi mãi coi thường\n",
      "Tâm bất biến giữa dòng đời vạn biến \n",
      "....\n"
     ]
    }
   ],
   "source": [
    "Tu_Song= \"Sống\"\n",
    "print(\"...\")\n",
    "print(f\"{Tu_Song} Không Giận, không hờn không oán trách\")\n",
    "print(f\"{Tu_Song} mĩm cười, với thử thách chông gai\")\n",
    "print(f\"{Tu_Song} vươn lên, theo kịp ánh ban mai\")\n",
    "print(f\"{Tu_Song} chan hòa , với người chung sống \")\n",
    "print(\"                                         \")\n",
    "print(f\"{Tu_Song} là ,động nhưng lòng luôn bất động \")\n",
    "print(f\"{Tu_Song} là thương, nhưng lòng chẳng vấn vương\")\n",
    "print(f\"{Tu_Song} yên vui, danh lợi mãi coi thường\")\n",
    "print(\"Tâm bất biến giữa dòng đời vạn biến \")\n",
    "print(\"....\")"
   ]
  },
  {
   "cell_type": "markdown",
   "id": "d36ea3d3",
   "metadata": {},
   "source": [
    "## Lab 1 - Bài 4"
   ]
  },
  {
   "cell_type": "code",
   "execution_count": 39,
   "id": "4c707ec1",
   "metadata": {},
   "outputs": [
    {
     "name": "stdout",
     "output_type": "stream",
     "text": [
      "11.135528725660043\n"
     ]
    }
   ],
   "source": [
    "import math\n",
    "a=float(input(\"Nhap_a\"))\n",
    "b=float(input(\"Nhap_b\"))\n",
    "\n",
    "\n",
    "del_ta = b* b -4*a*c\n",
    "result= math.sqrt(abs(del_ta))\n",
    "print(result)\n",
    "\n",
    "\n",
    "\n",
    "    \n",
    "\n",
    "\n"
   ]
  },
  {
   "cell_type": "markdown",
   "id": "e2b41d4a",
   "metadata": {},
   "source": [
    "## Lab 1 - Bài 5: bài tập làm thêm"
   ]
  },
  {
   "cell_type": "code",
   "execution_count": 40,
   "id": "0e0172f7",
   "metadata": {},
   "outputs": [
    {
     "name": "stdout",
     "output_type": "stream",
     "text": [
      "8.0\n",
      "15.0\n",
      "2.8284271247461903\n",
      "0.9893582466233818\n",
      "-0.14550003380861354\n",
      "-6.799711455220379\n",
      "2.0794415416798357\n"
     ]
    }
   ],
   "source": [
    "a= float(input(\"Nhap a\"))\n",
    "b= float(input(\"Nhập b\"))\n",
    "compute_additional= a+b\n",
    "compute_exponential = a*b\n",
    "compute_sqrt = math.sqrt(abs(a + b))\n",
    "compute_sin= math.sin(a+b)\n",
    "compute_cos= math.cos(a+b)\n",
    "compute_tan= math.tan(a+b)\n",
    "compute_logarit= math.log(a+b)\n",
    "print(compute_additional)\n",
    "print(compute_exponential)\n",
    "print(compute_sqrt)\n",
    "print(compute_sin)\n",
    "print(compute_cos)\n",
    "print(compute_tan)\n",
    "print(compute_logarit)\n",
    "\n",
    "\n"
   ]
  },
  {
   "cell_type": "code",
   "execution_count": null,
   "id": "c4eee0f4",
   "metadata": {},
   "outputs": [],
   "source": []
  }
 ],
 "metadata": {
  "kernelspec": {
   "display_name": "pythonpdp302",
   "language": "python",
   "name": "python3"
  },
  "language_info": {
   "codemirror_mode": {
    "name": "ipython",
    "version": 3
   },
   "file_extension": ".py",
   "mimetype": "text/x-python",
   "name": "python",
   "nbconvert_exporter": "python",
   "pygments_lexer": "ipython3",
   "version": "3.11.13"
  }
 },
 "nbformat": 4,
 "nbformat_minor": 5
}
