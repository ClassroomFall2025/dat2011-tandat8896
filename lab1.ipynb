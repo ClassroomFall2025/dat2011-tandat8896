{
 "cells": [
  {
   "cell_type": "markdown",
   "id": "fdeff819",
   "metadata": {},
   "source": [
    "# Sinh Viên thực hiện Lab 1 ở Đây"
   ]
  },
  {
   "cell_type": "markdown",
   "id": "acc5d7dc",
   "metadata": {},
   "source": [
    "## Lab 1 - Bài 1"
   ]
  },
  {
   "cell_type": "code",
   "execution_count": null,
   "id": "f6adc89a",
   "metadata": {},
   "outputs": [
    {
     "name": "stdout",
     "output_type": "stream",
     "text": [
      "Ten Toi La Tan Dat\n",
      "Toi Den tu TPHCM\n"
     ]
    }
   ],
   "source": [
    "print(\"xin chao\")\n",
    "print(\"Ten Toi La Tan Dat\")\n",
    "print(\"Toi Den tu TPHCM\")"
   ]
  },
  {
   "cell_type": "code",
   "execution_count": null,
   "id": "d3c4b551",
   "metadata": {},
   "outputs": [],
   "source": []
  },
  {
   "cell_type": "markdown",
   "id": "c0835310",
   "metadata": {},
   "source": [
    "## Lab 1 - Bài 2"
   ]
  },
  {
   "cell_type": "code",
   "execution_count": null,
   "id": "fa9cb39f",
   "metadata": {},
   "outputs": [
    {
     "name": "stdout",
     "output_type": "stream",
     "text": [
      "chu vi hinh chu nhat 18.0\n",
      "dien tich hinh chu nhat 20.0\n"
     ]
    }
   ],
   "source": [
    "chieu_dai= float(input(\"Nhap Chieu Dai\"))\n",
    "chieu_rong= float(input(\"nhap chieu rong\"))\n",
    "chu_vi = (chieu_dai + chieu_dai)*2\n",
    "dien_tich= chieu_dai * chieu_rong\n",
    "\n",
    "print(f\"chu vi hinh chu nhat {chu_vi}\")\n",
    "print(f\"dien tich hinh chu nhat {dien_tich}\")"
   ]
  },
  {
   "cell_type": "markdown",
   "id": "0f2483fe",
   "metadata": {},
   "source": [
    "## Lab 1 - Bài 3"
   ]
  },
  {
   "cell_type": "code",
   "execution_count": 7,
   "id": "7034990b",
   "metadata": {},
   "outputs": [
    {
     "name": "stdout",
     "output_type": "stream",
     "text": [
      "...\n",
      "Sống Không Giận, không hờn không oán trách\n",
      "Sống mĩm cười, với thử thách chông gai\n",
      "Sống vươn lên, theo kịp ánh ban mai\n",
      "Sống chan hòa , với người chung sống \n",
      "                                         \n",
      "Sống là ,động nhưng lòng luôn bất động \n",
      "Sống là thương, nhưng lòng chẳng vấn vương\n",
      "Sống yên vui, danh lợi mãi coi thường\n",
      "Tâm bất biến giữa dòng đời vạn biến \n",
      "....\n"
     ]
    }
   ],
   "source": [
    "Tu_Song= \"Sống\"\n",
    "print(\"...\")\n",
    "print(f\"{Tu_Song} Không Giận, không hờn không oán trách\")\n",
    "print(f\"{Tu_Song} mĩm cười, với thử thách chông gai\")\n",
    "print(f\"{Tu_Song} vươn lên, theo kịp ánh ban mai\")\n",
    "print(f\"{Tu_Song} chan hòa , với người chung sống \")\n",
    "print(\"                                         \")\n",
    "print(f\"{Tu_Song} là ,động nhưng lòng luôn bất động \")\n",
    "print(f\"{Tu_Song} là thương, nhưng lòng chẳng vấn vương\")\n",
    "print(f\"{Tu_Song} yên vui, danh lợi mãi coi thường\")\n",
    "print(\"Tâm bất biến giữa dòng đời vạn biến \")\n",
    "print(\"....\")"
   ]
  },
  {
   "cell_type": "markdown",
   "id": "d36ea3d3",
   "metadata": {},
   "source": [
    "## Lab 1 - Bài 4"
   ]
  },
  {
   "cell_type": "code",
   "execution_count": 39,
   "id": "4c707ec1",
   "metadata": {},
   "outputs": [
    {
     "name": "stdout",
     "output_type": "stream",
     "text": [
      "11.135528725660043\n"
     ]
    }
   ],
   "source": [
    "import math\n",
    "a=float(input(\"Nhap_a\"))\n",
    "b=float(input(\"Nhap_b\"))\n",
    "\n",
    "\n",
    "del_ta = b* b -4*a*c\n",
    "result= math.sqrt(abs(del_ta))\n",
    "print(result)\n",
    "\n",
    "\n",
    "\n",
    "    \n",
    "\n",
    "\n"
   ]
  },
  {
   "cell_type": "markdown",
   "id": "e2b41d4a",
   "metadata": {},
   "source": [
    "## Lab 1 - Bài 5: bài tập làm thêm"
   ]
  },
  {
   "cell_type": "code",
   "execution_count": 47,
   "id": "0e0172f7",
   "metadata": {},
   "outputs": [
    {
     "name": "stdout",
     "output_type": "stream",
     "text": [
      "compute_additional 11\n",
      "compute_exponential 7\n",
      "compute_division 0.8333333333333334\n",
      "compute_minus -1\n",
      "compute_sqrt 3.3166247903554\n",
      "compute_sin -0.9999902065507035\n",
      "compute_cos 0.004425697988050785\n",
      "compute_tan -225.95084645419513\n",
      "compute_logarit 2.3978952727983707\n"
     ]
    }
   ],
   "source": [
    "a= int(input(\"Nhap a\"))\n",
    "b= int(input(\"Nhập b\"))\n",
    "compute_additional= a+b\n",
    "compute_exponential = a^2\n",
    "compute_division = a/b\n",
    "compute_minus = a-b\n",
    "compute_sqrt = math.sqrt(abs(a + b))\n",
    "compute_sin= math.sin(a+b)\n",
    "compute_cos= math.cos(a+b)\n",
    "compute_tan= math.tan(a+b)\n",
    "compute_logarit= math.log(a+b)\n",
    "print(f\"compute_additional {compute_additional}\")\n",
    "print(f\"compute_exponential {compute_exponential}\")\n",
    "print(f\"compute_division {compute_division}\")\n",
    "print(f\"compute_minus {compute_minus}\")\n",
    "print(f\"compute_sqrt {compute_sqrt}\")\n",
    "print(f\"compute_sin {compute_sin}\")\n",
    "print(f\"compute_cos {compute_cos}\")\n",
    "print(f\"compute_tan {compute_tan}\")\n",
    "print(f\"compute_logarit {compute_logarit}\")\n",
    "\n"
   ]
  },
  {
   "cell_type": "code",
   "execution_count": null,
   "id": "23158fb2",
   "metadata": {},
   "outputs": [],
   "source": []
  }
 ],
 "metadata": {
  "kernelspec": {
   "display_name": "pythonpdp302",
   "language": "python",
   "name": "python3"
  },
  "language_info": {
   "codemirror_mode": {
    "name": "ipython",
    "version": 3
   },
   "file_extension": ".py",
   "mimetype": "text/x-python",
   "name": "python",
   "nbconvert_exporter": "python",
   "pygments_lexer": "ipython3",
   "version": "3.11.13"
  }
 },
 "nbformat": 4,
 "nbformat_minor": 5
}
