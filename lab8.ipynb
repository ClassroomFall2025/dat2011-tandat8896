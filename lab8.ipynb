{
 "cells": [
  {
   "cell_type": "markdown",
   "id": "fdeff819",
   "metadata": {},
   "source": [
    "# Sinh Viên thực hiện Lab 8 ở Đây"
   ]
  },
  {
   "cell_type": "code",
   "execution_count": 22,
   "id": "001e0507",
   "metadata": {},
   "outputs": [
    {
     "name": "stdout",
     "output_type": "stream",
     "text": [
      "khop\n"
     ]
    }
   ],
   "source": [
    "# Code lab 8 bài 1 ở đây\n",
    "import re\n",
    "parten= r\"^0\\d{9}\"\n",
    "mau= str(input(\"Nhap so dien thoai: \"))\n",
    "check = re.match(parten, mau)\n",
    "print(\"khop\" if check else \"khong khop\")"
   ]
  },
  {
   "cell_type": "code",
   "execution_count": 18,
   "id": "6130f39d",
   "metadata": {},
   "outputs": [
    {
     "name": "stdout",
     "output_type": "stream",
     "text": [
      "Ma so hop le\n"
     ]
    }
   ],
   "source": [
    "parten = r\"^PS\\d{5}$\"\n",
    "mau= str(input(\"Nhap ma so: \"))\n",
    "check = re.search(parten, mau)\n",
    "if check:\n",
    "    print(\"Ma so hop le\")\n",
    "else:\n",
    "    print(\"Ma so khong hop le\")"
   ]
  },
  {
   "cell_type": "code",
   "execution_count": 29,
   "id": "08f1b283",
   "metadata": {},
   "outputs": [
    {
     "name": "stdout",
     "output_type": "stream",
     "text": [
      "khop\n"
     ]
    }
   ],
   "source": [
    "pattern = r\"^[a-zA-Z0-9._%+-]+@[a-zA-Z0-9.-]+\\.[a-zA-Z]{2,15}$\"\n",
    "check = str(input(\"Nhap email: \"))\n",
    "match = re.match(pattern, check)\n",
    "print(\"khop\" if match else \"khong khop\")\n"
   ]
  },
  {
   "cell_type": "code",
   "execution_count": 30,
   "id": "52ce87b9",
   "metadata": {},
   "outputs": [
    {
     "name": "stdout",
     "output_type": "stream",
     "text": [
      "Ma so khong hop le\n"
     ]
    }
   ],
   "source": [
    "parten = r\"^PS[0-9]{5}$\"\n",
    "mau= str(input(\"Nhap ma so: \"))\n",
    "check = re.search(parten, mau)\n",
    "if check:\n",
    "    print(\"Ma so hop le\")\n",
    "else:\n",
    "    print(\"Ma so khong hop le\")"
   ]
  },
  {
   "cell_type": "markdown",
   "id": "3e6766ae",
   "metadata": {},
   "source": [
    "## Lab 8 - Bài 1"
   ]
  },
  {
   "cell_type": "code",
   "execution_count": null,
   "id": "4e61d46a",
   "metadata": {},
   "outputs": [
    {
     "name": "stdout",
     "output_type": "stream",
     "text": [
      "Họ: NGO | Tên đệm: tan | Tên: DAT\n"
     ]
    }
   ],
   "source": [
    "# Nhập họ và tên từ bàn phím. Xuất tên, họ và tên đệm ra màn hình trong đó tên và họ xuất IN HOA.\n",
    "\n",
    "import re\n",
    "\n",
    "hoten = input(\"Nhập họ và tên: \").strip()\n",
    "# Tách họ, tên đệm, tên bằng re\n",
    "match = re.match(r'^(\\S+)\\s+(.*)\\s+(\\S+)$', hoten)\n",
    "if match:\n",
    "    ho = match.group(1)\n",
    "    tendem = match.group(2)\n",
    "    ten = match.group(3)\n",
    "    print(f\"Họ: {ho.upper()} | Tên đệm: {tendem} | Tên: {ten.upper()}\")\n",
    "else:\n",
    "    print(\"Không nhận diện được họ tên đầy đủ. Vui lòng nhập đầy đủ họ tên.\")\n"
   ]
  },
  {
   "cell_type": "markdown",
   "id": "c0835310",
   "metadata": {},
   "source": [
    "## Lab 8 - Bài 2"
   ]
  },
  {
   "cell_type": "code",
   "execution_count": null,
   "id": "fa9cb39f",
   "metadata": {},
   "outputs": [
    {
     "name": "stdout",
     "output_type": "stream",
     "text": [
      "Email không hợp lệ. Vui lòng nhập lại.\n",
      "Thông tin sinh viên đã nhập:\n",
      "ho_ten: ngo tan dat\n",
      "email: tandat88963820@gmail.com\n",
      "so_dien_thoai: 0987654321\n",
      "cmnd: 123123781293\n"
     ]
    }
   ],
   "source": [
    "import re\n",
    "\n",
    "\n",
    "pattern_email = r\"^[a-zA-Z0-9._%+-]+@[a-zA-Z0-9.-]+\\.[a-zA-Z]{2,15}$\"\n",
    "pattern_phone = r\"^(0[0-9]{9,10})$\"\n",
    "pattern_cmnd = r\"^\\d{9}$|^\\d{12}$\"  \n",
    "\n",
    "sinhvien = {}\n",
    "\n",
    "sinhvien['ho_ten'] = input(\"Nhập họ tên sinh viên: \").strip()\n",
    "\n",
    "# Kiểm tra email\n",
    "while True:\n",
    "    email = input(\"Nhập email: \").strip()\n",
    "    if re.match(pattern_email, email):\n",
    "        sinhvien['email'] = email\n",
    "        break\n",
    "    else:\n",
    "        print(\"Email không hợp lệ. Vui lòng nhập lại.\")\n",
    "\n",
    "# Kiểm tra số điện thoại\n",
    "while True:\n",
    "    phone = input(\"Nhập số điện thoại: \").strip()\n",
    "    if re.match(pattern_phone, phone):\n",
    "        sinhvien['so_dien_thoai'] = phone\n",
    "        break\n",
    "    else:\n",
    "        print(\"Số điện thoại không hợp lệ. Vui lòng nhập lại (bắt đầu bằng 0 và 10 hoặc 11 số).\")\n",
    "\n",
    "# Kiểm tra CMND/CCCD\n",
    "while True:\n",
    "    cmnd = input(\"Nhập số CMND/CCCD: \").strip()\n",
    "    if re.match(pattern_cmnd, cmnd):\n",
    "        sinhvien['cmnd'] = cmnd\n",
    "        break\n",
    "    else:\n",
    "        print(\"CMND/CCCD không hợp lệ. CMND phải 9 số hoặc CCCD phải 12 số.\")\n",
    "\n",
    "print(\"Thông tin sinh viên đã nhập:\")\n",
    "for k, v in sinhvien.items():\n",
    "    print(f\"{k}: {v}\")\n",
    "\n"
   ]
  },
  {
   "cell_type": "markdown",
   "id": "0f2483fe",
   "metadata": {},
   "source": [
    "## Lab 8 - Bài 3"
   ]
  },
  {
   "cell_type": "code",
   "execution_count": 5,
   "id": "7034990b",
   "metadata": {},
   "outputs": [
    {
     "name": "stdout",
     "output_type": "stream",
     "text": [
      "Đã ghi 1000000 số nguyên ngẫu nhiên vào file 'so_ngau_nhien.txt'.\n"
     ]
    }
   ],
   "source": [
    "# Code lab 8  bài 3 ở đây\n",
    "import random\n",
    "\n",
    "filename = \"so_ngau_nhien.txt\"\n",
    "n = 1_000_000\n",
    "\n",
    "with open(filename, \"w\") as f:\n",
    "    numbers = [str(random.randint(0, 100)) for _ in range(n)]\n",
    "    f.write(\" \".join(numbers))\n",
    "\n",
    "print(f\"Đã ghi {n} số nguyên ngẫu nhiên vào file '{filename}'.\")\n",
    "\n"
   ]
  },
  {
   "cell_type": "markdown",
   "id": "d36ea3d3",
   "metadata": {},
   "source": [
    "## Lab 8 - Bài 4"
   ]
  },
  {
   "cell_type": "code",
   "execution_count": 6,
   "id": "4c707ec1",
   "metadata": {},
   "outputs": [
    {
     "name": "stdout",
     "output_type": "stream",
     "text": [
      "Trung bình của bộ dữ liệu: 50.003385\n",
      "Độ lệch chuẩn của bộ dữ liệu: 29.138365063710996\n"
     ]
    }
   ],
   "source": [
    "# code lab 8 bài 4 ở đây\n",
    "import statistics\n",
    "\n",
    "filename = \"so_ngau_nhien.txt\"\n",
    "\n",
    "# Đọc dữ liệu từ file\n",
    "with open(filename, \"r\") as f:\n",
    "    data = f.read().split()\n",
    "\n",
    "# Chuyển thành các số nguyên\n",
    "numbers = list(map(int, data))\n",
    "\n",
    "# Tính trung bình\n",
    "mean = statistics.mean(numbers)\n",
    "\n",
    "# Tính độ lệch chuẩn\n",
    "std_dev = statistics.stdev(numbers)\n",
    "\n",
    "print(f\"Trung bình của bộ dữ liệu: {mean}\")\n",
    "print(f\"Độ lệch chuẩn của bộ dữ liệu: {std_dev}\")\n"
   ]
  },
  {
   "cell_type": "markdown",
   "id": "e2b41d4a",
   "metadata": {},
   "source": [
    "## Lab 8 - Bài 5: bài tập làm thêm"
   ]
  },
  {
   "cell_type": "code",
   "execution_count": null,
   "id": "0e0172f7",
   "metadata": {},
   "outputs": [],
   "source": [
    "# code lab 8  bài làm thêm ở đây "
   ]
  }
 ],
 "metadata": {
  "kernelspec": {
   "display_name": "pythonpdp302",
   "language": "python",
   "name": "python3"
  },
  "language_info": {
   "codemirror_mode": {
    "name": "ipython",
    "version": 3
   },
   "file_extension": ".py",
   "mimetype": "text/x-python",
   "name": "python",
   "nbconvert_exporter": "python",
   "pygments_lexer": "ipython3",
   "version": "3.11.13"
  }
 },
 "nbformat": 4,
 "nbformat_minor": 5
}
