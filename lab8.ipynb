{
 "cells": [
  {
   "cell_type": "markdown",
   "id": "fdeff819",
   "metadata": {},
   "source": [
    "# Sinh Viên thực hiện Lab 8 ở Đây"
   ]
  },
  {
   "cell_type": "markdown",
   "id": "acc5d7dc",
   "metadata": {},
   "source": [
    "## Lab 8 - Bài 1"
   ]
  },
  {
   "cell_type": "code",
   "execution_count": 22,
   "id": "001e0507",
   "metadata": {},
   "outputs": [
    {
     "name": "stdout",
     "output_type": "stream",
     "text": [
      "khop\n"
     ]
    }
   ],
   "source": [
    "# Code lab 8 bài 1 ở đây\n",
    "import re\n",
    "parten= r\"^0\\d{9}\"\n",
    "mau= str(input(\"Nhap so dien thoai: \"))\n",
    "check = re.match(parten, mau)\n",
    "print(\"khop\" if check else \"khong khop\")"
   ]
  },
  {
   "cell_type": "code",
   "execution_count": 18,
   "id": "6130f39d",
   "metadata": {},
   "outputs": [
    {
     "name": "stdout",
     "output_type": "stream",
     "text": [
      "Ma so hop le\n"
     ]
    }
   ],
   "source": [
    "parten = r\"^PS\\d{5}$\"\n",
    "mau= str(input(\"Nhap ma so: \"))\n",
    "check = re.search(parten, mau)\n",
    "if check:\n",
    "    print(\"Ma so hop le\")\n",
    "else:\n",
    "    print(\"Ma so khong hop le\")"
   ]
  },
  {
   "cell_type": "code",
   "execution_count": 29,
   "id": "08f1b283",
   "metadata": {},
   "outputs": [
    {
     "name": "stdout",
     "output_type": "stream",
     "text": [
      "khop\n"
     ]
    }
   ],
   "source": [
    "pattern = r\"^[a-zA-Z0-9._%+-]+@[a-zA-Z0-9.-]+\\.[a-zA-Z]{2,15}$\"\n",
    "check = str(input(\"Nhap email: \"))\n",
    "match = re.match(pattern, check)\n",
    "print(\"khop\" if match else \"khong khop\")\n"
   ]
  },
  {
   "cell_type": "code",
   "execution_count": 30,
   "id": "52ce87b9",
   "metadata": {},
   "outputs": [
    {
     "name": "stdout",
     "output_type": "stream",
     "text": [
      "Ma so khong hop le\n"
     ]
    }
   ],
   "source": [
    "parten = r\"^PS[0-9]{5}$\"\n",
    "mau= str(input(\"Nhap ma so: \"))\n",
    "check = re.search(parten, mau)\n",
    "if check:\n",
    "    print(\"Ma so hop le\")\n",
    "else:\n",
    "    print(\"Ma so khong hop le\")"
   ]
  },
  {
   "cell_type": "markdown",
   "id": "c0835310",
   "metadata": {},
   "source": [
    "## Lab 8 - Bài 2"
   ]
  },
  {
   "cell_type": "code",
   "execution_count": null,
   "id": "fa9cb39f",
   "metadata": {},
   "outputs": [],
   "source": [
    "# Code lab 8  bài 2 ở đây"
   ]
  },
  {
   "cell_type": "markdown",
   "id": "0f2483fe",
   "metadata": {},
   "source": [
    "## Lab 8 - Bài 3"
   ]
  },
  {
   "cell_type": "code",
   "execution_count": null,
   "id": "7034990b",
   "metadata": {},
   "outputs": [],
   "source": [
    "# Code lab 8  bài 3 ở đây"
   ]
  },
  {
   "cell_type": "markdown",
   "id": "d36ea3d3",
   "metadata": {},
   "source": [
    "## Lab 8 - Bài 4"
   ]
  },
  {
   "cell_type": "code",
   "execution_count": null,
   "id": "4c707ec1",
   "metadata": {},
   "outputs": [],
   "source": [
    "# code lab 8 bài 4 ở đây"
   ]
  },
  {
   "cell_type": "markdown",
   "id": "e2b41d4a",
   "metadata": {},
   "source": [
    "## Lab 8 - Bài 5: bài tập làm thêm"
   ]
  },
  {
   "cell_type": "code",
   "execution_count": null,
   "id": "0e0172f7",
   "metadata": {},
   "outputs": [],
   "source": [
    "# code lab 8  bài làm thêm ở đây "
   ]
  }
 ],
 "metadata": {
  "kernelspec": {
   "display_name": "pythonpdp302",
   "language": "python",
   "name": "python3"
  },
  "language_info": {
   "codemirror_mode": {
    "name": "ipython",
    "version": 3
   },
   "file_extension": ".py",
   "mimetype": "text/x-python",
   "name": "python",
   "nbconvert_exporter": "python",
   "pygments_lexer": "ipython3",
   "version": "3.11.13"
  }
 },
 "nbformat": 4,
 "nbformat_minor": 5
}
