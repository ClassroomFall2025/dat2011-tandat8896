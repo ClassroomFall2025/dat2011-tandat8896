{
 "cells": [
  {
   "cell_type": "markdown",
   "id": "fdeff819",
   "metadata": {},
   "source": [
    "# Sinh Viên thực hiện Lab 7 ở Đây"
   ]
  },
  {
   "cell_type": "markdown",
   "id": "acc5d7dc",
   "metadata": {},
   "source": [
    "## Lab 7 - Bài 1"
   ]
  },
  {
   "cell_type": "code",
   "execution_count": null,
   "id": "001e0507",
   "metadata": {},
   "outputs": [
    {
     "name": "stdout",
     "output_type": "stream",
     "text": [
      "Tự nguyện\n",
      "Trương Quốc Khánh\n",
      "Nếu là chim, tôi sẽ là loài bồ câu trắng\n",
      "Nếu là hoa, tôi sẽ là một đóa hướng dương\n",
      "Nếu là mây, tôi sẽ là một vầng mây ấm\n",
      "Là người, tôi sẽ chết cho quê hương.\n",
      "\n",
      "Là chim, tôi sẽ cất cao đôi cánh mềm\n",
      "Từ nam ra ngoài bắc báo tin nối liền\n",
      "Là hoa, tôi nở tình yêu ban sớm\n",
      "Cùng muôn trái tim ngất ngây hoà bình.\n",
      "\n",
      "Là mây, theo làn gió tung bay khắp trời\n",
      "Nghìn xưa oai hùng đó tôi xin tiếp lời\n",
      "Là người, xin một lần khi nằm xuống\n",
      "Nhìn anh em đứng lên phất cao ngọn cờ.\n"
     ]
    }
   ],
   "source": [
    "import os\n",
    "file_name = \"folder_chua_file/DAT2011_Lab_7_Resource.txt\"\n",
    "\n",
    "os.path.exists(file_name)\n",
    "\n",
    "try:\n",
    "    with open(file_name, \"r\", encoding=\"utf-8\") as file:\n",
    "        ketqua = file.read()\n",
    "        print(ketqua)\n",
    "except FileNotFoundError:\n",
    "    print(f\"File {file_name} không tồn tại.\")\n"
   ]
  },
  {
   "cell_type": "markdown",
   "id": "4a733c81",
   "metadata": {},
   "source": [
    "### Đọc và xuất ra màn hình tên bài thơ (9 ký tự đầu tiên)"
   ]
  },
  {
   "cell_type": "code",
   "execution_count": 14,
   "id": "3e174771",
   "metadata": {},
   "outputs": [
    {
     "name": "stdout",
     "output_type": "stream",
     "text": [
      "Tự nguyện\n"
     ]
    }
   ],
   "source": [
    "import os\n",
    "file_name = \"folder_chua_file/DAT2011_Lab_7_Resource.txt\"\n",
    "\n",
    "os.path.exists(file_name)\n",
    "\n",
    "try:\n",
    "    with open(file_name, \"r\", encoding=\"utf-8\") as file:\n",
    "        ketqua = file.readlines()[0][:9]\n",
    "        print(ketqua)\n",
    "except FileNotFoundError:\n",
    "    print(f\"File {file_name} không tồn tại.\")\n"
   ]
  },
  {
   "cell_type": "markdown",
   "id": "fecc0281",
   "metadata": {},
   "source": [
    "### Đọc và xuất ra màn hình tên tác giả (dòng thứ hai)"
   ]
  },
  {
   "cell_type": "code",
   "execution_count": 15,
   "id": "48e91eab",
   "metadata": {},
   "outputs": [
    {
     "name": "stdout",
     "output_type": "stream",
     "text": [
      "Trương Quốc Khánh\n",
      "\n"
     ]
    }
   ],
   "source": [
    "import os\n",
    "file_name = \"folder_chua_file/DAT2011_Lab_7_Resource.txt\"\n",
    "\n",
    "os.path.exists(file_name)\n",
    "\n",
    "try:\n",
    "    with open(file_name, \"r\", encoding=\"utf-8\") as file:\n",
    "        ketqua = file.readlines()[1][:]\n",
    "        print(ketqua)\n",
    "except FileNotFoundError:\n",
    "    print(f\"File {file_name} không tồn tại.\")\n"
   ]
  },
  {
   "cell_type": "code",
   "execution_count": 16,
   "id": "52efbee2",
   "metadata": {},
   "outputs": [
    {
     "name": "stdout",
     "output_type": "stream",
     "text": [
      "File folder_chua_file/DAT2011_Lab_7_Resources.txt không tồn tại.\n"
     ]
    }
   ],
   "source": [
    "import os\n",
    "file_name = \"folder_chua_file/DAT2011_Lab_7_Resources.txt\"\n",
    "\n",
    "os.path.exists(file_name)\n",
    "\n",
    "try:\n",
    "    with open(file_name, \"r\", encoding=\"utf-8\") as file:\n",
    "        ketqua = file.readlines()[0][:9]\n",
    "        print(ketqua)\n",
    "except FileNotFoundError:\n",
    "    print(f\"File {file_name} không tồn tại.\")\n"
   ]
  },
  {
   "cell_type": "markdown",
   "id": "c0835310",
   "metadata": {},
   "source": [
    "## Lab 7 - Bài 2"
   ]
  },
  {
   "cell_type": "markdown",
   "id": "37284e45",
   "metadata": {},
   "source": [
    "### Sử dụng chế độ mở file “w”, trong trường hợp file đã tồn tại thì sẽ ghi đè lên nội dung đã có"
   ]
  },
  {
   "cell_type": "code",
   "execution_count": 29,
   "id": "fa9cb39f",
   "metadata": {},
   "outputs": [
    {
     "name": "stdout",
     "output_type": "stream",
     "text": [
      "\n",
      "Chốn dương gian chẳng qua là tạm bợ\n",
      "Tiệc tàn rồi cũng trở lại hư vô\n",
      "Hãy giữ gìn trân trọng mến thương nhau\n",
      "Vì thời gian chẳng thể nào quay lại...\n",
      "\n"
     ]
    }
   ],
   "source": [
    "try:\n",
    "    with open(\"Lab7-Exercise2.txt\", \"w\", encoding=\"utf-8\") as file:\n",
    "        file.write(\"\")\n",
    "        file.write(\"\\nChốn dương gian chẳng qua là tạm bợ\\n\")\n",
    "        file.write(\"Tiệc tàn rồi cũng trở lại hư vô\\n\")\n",
    "        file.write(\"Hãy giữ gìn trân trọng mến thương nhau\\n\")\n",
    "        file.write(\"Vì thời gian chẳng thể nào quay lại...\\n\")\n",
    "        file.seek(0)   \n",
    "        file.close() \n",
    "except FileNotFoundError:\n",
    "    print(f\"File {file_name} không tồn tại.\")\n",
    "\n",
    "try:\n",
    "    with open(\"Lab7-Exercise2.txt.\", \"r\", encoding=\"utf-8\") as file:\n",
    "        print(file.read())\n",
    "except FileNotFoundError:\n",
    "    print(f\"File {file_name} không tồn tại.\")\n"
   ]
  },
  {
   "cell_type": "markdown",
   "id": "0f2483fe",
   "metadata": {},
   "source": [
    "## Lab 7 - Bài 3"
   ]
  },
  {
   "cell_type": "markdown",
   "id": "99f39842",
   "metadata": {},
   "source": [
    "### Viết chương trình để nhập thông tin của 5 bài thơ từ bàn phím và ghi vào file theo định dạng csv. Thông tin của bài hát bao gồm: tiêu đề, tác giả và năm sáng tác."
   ]
  },
  {
   "cell_type": "code",
   "execution_count": 32,
   "id": "7034990b",
   "metadata": {},
   "outputs": [],
   "source": [
    "# Code lab 7  bài 3 ở đây\n",
    "import os\n",
    "import sys\n",
    "file_name = \"Lab7-Exercise3.csv\"\n",
    "\n",
    "try:\n",
    "    if os.path.exists(file_name):\n",
    "        with open(\"Lab7-Exercise3.csv\", \"w\", encoding=\"utf-8\") as file:\n",
    "            file.write(\"Tieu de, Tac gia, Nam san tac\\n\")\n",
    "            for _ in range(5):\n",
    "                tieude = input(\"Nhap tieu de: \")\n",
    "                tacgia = input(\"Nhap tac gia: \")\n",
    "                namsangtac = input(\"Nhap nam san tac: \")\n",
    "                file.write(f\"{tieude}, {tacgia}, {namsangtac}\\n\")\n",
    "    else:\n",
    "        with open(\"Lab7-Exercise3.csv\", \"a+\", encoding=\"utf-8\") as file:\n",
    "            file.write(\"Tieu de, Tac gia, Nam san tac\\n\")\n",
    "            for _ in range(5):\n",
    "                tieude = input(\"Nhap tieu de: \")\n",
    "                tacgia = input(\"Nhap tac gia: \")\n",
    "                namsangtac = input(\"Nhap nam san tac: \")\n",
    "                file.write(f\"{tieude}, {tacgia}, {namsangtac}\\n\")\n",
    "except FileNotFoundError:\n",
    "    print(f\"File {file_name} không tồn tại.\")\n"
   ]
  },
  {
   "cell_type": "markdown",
   "id": "d36ea3d3",
   "metadata": {},
   "source": [
    "## Lab 7 - Bài 4"
   ]
  },
  {
   "cell_type": "markdown",
   "id": "ad90f857",
   "metadata": {},
   "source": [
    "### Mở file DAT201 - Lab 7 – Resource.txt. Đọc toàn bộ nội dung và ghi vào file theo định dạng xml. Yêu cầu của file *.xml như sau:"
   ]
  },
  {
   "cell_type": "code",
   "execution_count": null,
   "id": "4c707ec1",
   "metadata": {},
   "outputs": [],
   "source": [
    "# code lab 7 bài 4 ở đây"
   ]
  },
  {
   "cell_type": "markdown",
   "id": "e2b41d4a",
   "metadata": {},
   "source": [
    "## Lab 7 - Bài 5: bài tập làm thêm"
   ]
  },
  {
   "cell_type": "code",
   "execution_count": 38,
   "id": "0e0172f7",
   "metadata": {},
   "outputs": [
    {
     "name": "stdout",
     "output_type": "stream",
     "text": [
      "\n",
      "==================================================\n",
      "HE THONG QUAN LY TAI KHOAN NGAN HANG\n",
      "==================================================\n",
      "Chưa có tài khoản nào được chọn\n",
      "Tổng số tài khoản: 0\n",
      "==================================================\n",
      "+----------------------------------+\n",
      "| 0. Thoát                            |\n",
      "| 1. Tạo tài khoản                    |\n",
      "| 2. Gửi tiền                         |\n",
      "| 3. Rút tiền                         |\n",
      "| 4. Kiểm tra số dư                   |\n",
      "| 5. Danh sách tất cả tài khoản       |\n",
      "| 6. Đóng (Xóa) tài khoản             |\n",
      "| 7. Chinh sua thong tin tai khoản    |\n",
      "| 8. Tìm kiếm thông tin tài khoản     |\n",
      "| 9. Xuất báo cáo thống kê            |\n",
      "| 10. Đọc dữ liệu từ CSV               |\n",
      "| 11. Lưu dữ liệu vào CSV              |\n",
      "| 12. Chọn tài khoản hiện tại          |\n",
      "+----------------------------------+\n",
      "\n",
      "=== TAO TAI KHOAN ===\n",
      "\n",
      "=== NHAP THONG TIN KHACH HANG ===\n",
      "So tai khoan đã được tạo\n",
      "Tạo tài khoản thành công!\n",
      "\n",
      "==================================================\n",
      "HE THONG QUAN LY TAI KHOAN NGAN HANG\n",
      "==================================================\n",
      "Tài khoản hiện tại: 1234567890 - Số dư: 0\n",
      "Tổng số tài khoản: 1\n",
      "==================================================\n",
      "+----------------------------------+\n",
      "| 0. Thoát                            |\n",
      "| 1. Tạo tài khoản                    |\n",
      "| 2. Gửi tiền                         |\n",
      "| 3. Rút tiền                         |\n",
      "| 4. Kiểm tra số dư                   |\n",
      "| 5. Danh sách tất cả tài khoản       |\n",
      "| 6. Đóng (Xóa) tài khoản             |\n",
      "| 7. Chinh sua thong tin tai khoản    |\n",
      "| 8. Tìm kiếm thông tin tài khoản     |\n",
      "| 9. Xuất báo cáo thống kê            |\n",
      "| 10. Đọc dữ liệu từ CSV               |\n",
      "| 11. Lưu dữ liệu vào CSV              |\n",
      "| 12. Chọn tài khoản hiện tại          |\n",
      "+----------------------------------+\n",
      "Kết thúc chương trình\n"
     ]
    }
   ],
   "source": [
    "# code lab 7  bài làm thêm ở đây \n",
    "#mode x han che viec ghi de va no khong ghi de len duoc\n",
    "#r la read r+ la ngoai viec doc du lieu thi no co the ghi du lieu luon\n",
    "#trong duong dan thi tuyet doi thi cung cap them r\" \\t\" bo qua may cai dau \\t\n",
    "\n",
    "import os\n",
    "import sys\n",
    "sys.path.append(\"bankingsystem\")\n",
    "from bankingsystem.menu import hien_thi_menu, main\n",
    "\n",
    "main()"
   ]
  },
  {
   "cell_type": "code",
   "execution_count": null,
   "id": "0ab1b901",
   "metadata": {},
   "outputs": [],
   "source": []
  }
 ],
 "metadata": {
  "kernelspec": {
   "display_name": "pythonpdp302",
   "language": "python",
   "name": "python3"
  },
  "language_info": {
   "codemirror_mode": {
    "name": "ipython",
    "version": 3
   },
   "file_extension": ".py",
   "mimetype": "text/x-python",
   "name": "python",
   "nbconvert_exporter": "python",
   "pygments_lexer": "ipython3",
   "version": "3.11.13"
  }
 },
 "nbformat": 4,
 "nbformat_minor": 5
}
